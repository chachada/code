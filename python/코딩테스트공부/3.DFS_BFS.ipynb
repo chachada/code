{
 "cells": [
  {
   "cell_type": "code",
   "execution_count": null,
   "metadata": {},
   "outputs": [],
   "source": [
    "# 참고\n",
    "# 나동빈, 『이것이 코딩 테스트다 with 파이썬』, 한빛미디어-2021.07.12, 124-1154"
   ]
  },
  {
   "cell_type": "markdown",
   "metadata": {},
   "source": [
    "# 3. DFS/BFS\n",
    "탐색 : 많은 양의 데이터 중에서 원하는 데이터를 찾는 과정\n",
    "- 대표적인 탐색 알고리즘 : DFS와 BFS\n",
    "\n",
    "자료구조 : 데이터를 표현하고 관리하고 처리하기 위한 구조\n",
    "- 스택 & 큐 : 삽입(push)과 삭제(pop) 두 핵심적인 함수로 구성\n",
    "\n",
    "스택 : 박스 쌓기에 비유 가능, 흔히 박스는 아래에서 위로 쌓고 아래에 있는 박스를 치우기 위해서는 위에 있는 박스를 내려야함  \n",
    "-> 이런 구조를 선입후출 or 후입선출이라고 함\n",
    "  \n",
    "큐 : 대기 줄에 비유 가능, 먼저 온 사람이 먼저 들어가기  \n",
    "-> 이런 구조를 선입선출이라고 함\n",
    "- collections의 deque 모듈 사용"
   ]
  },
  {
   "cell_type": "code",
   "execution_count": 1,
   "metadata": {},
   "outputs": [
    {
     "name": "stdout",
     "output_type": "stream",
     "text": [
      "deque([3, 7, 1, 4])\n",
      "deque([4, 1, 7, 3])\n"
     ]
    }
   ],
   "source": [
    "## 큐 예제\n",
    "from collections import deque\n",
    "\n",
    "# queue 생성\n",
    "queue = deque()\n",
    "\n",
    "# 삽입(5) - 삽입(2) - 삽입(3) - 삽입(7) - 삭제() - 삽입(1) - 삽입(4) - 삭제()\n",
    "queue.append(5) # 5\n",
    "queue.append(2) # 2 5\n",
    "queue.append(3) # 3 2 5\n",
    "queue.append(7) # 7 3 2 5\n",
    "queue.popleft() # 7 3 2\n",
    "queue.append(1) # 1 7 3 2\n",
    "queue.append(4) # 4 1 7 3 2\n",
    "queue.popleft() # 4 1 7 3\n",
    "\n",
    "print(queue) # 먼저 들어온 순서대로 출력\n",
    "queue.reverse() # 역순\n",
    "print(queue) # 나중에 들어온 원소부터 출력"
   ]
  },
  {
   "cell_type": "markdown",
   "metadata": {},
   "source": [
    "재귀함수 : 자기 자신을 다시 호출하는 함수 (DFS/BFS 구현을 위해 알아야함)"
   ]
  },
  {
   "cell_type": "code",
   "execution_count": 3,
   "metadata": {},
   "outputs": [
    {
     "name": "stdout",
     "output_type": "stream",
     "text": [
      "1번째 재귀함수에서 2번째 재귀함수를 호출한다\n",
      "2번째 재귀함수에서 3번째 재귀함수를 호출한다\n",
      "3번째 재귀함수에서 4번째 재귀함수를 호출한다\n",
      "4번째 재귀함수에서 5번째 재귀함수를 호출한다\n",
      "5번째 재귀함수에서 6번째 재귀함수를 호출한다\n",
      "6번째 재귀함수에서 7번째 재귀함수를 호출한다\n",
      "7번째 재귀함수에서 8번째 재귀함수를 호출한다\n",
      "8번째 재귀함수에서 9번째 재귀함수를 호출한다\n",
      "9번째 재귀함수에서 10번째 재귀함수를 호출한다\n",
      "9번째 재귀함수 종료\n",
      "8번째 재귀함수 종료\n",
      "7번째 재귀함수 종료\n",
      "6번째 재귀함수 종료\n",
      "5번째 재귀함수 종료\n",
      "4번째 재귀함수 종료\n",
      "3번째 재귀함수 종료\n",
      "2번째 재귀함수 종료\n",
      "1번째 재귀함수 종료\n"
     ]
    }
   ],
   "source": [
    "## 재귀함수 종료 조건 추가 예제\n",
    "def recursive_function(i) :\n",
    "    if i == 10 :\n",
    "        return\n",
    "    print(f'{i}번째 재귀함수에서 {i+1}번째 재귀함수를 호출한다')\n",
    "    recursive_function(i+1)\n",
    "    print(f'{i}번째 재귀함수 종료')\n",
    "recursive_function(1)"
   ]
  },
  {
   "cell_type": "markdown",
   "metadata": {},
   "source": [
    "DFS(Depth-First Search) : 깊이 우선 탐색이라고도 부르며, 그래프에서 깊은 부분을 우선적으로 탐색하는 알고리즘  \n",
    "    \n",
    "그래프 기본구조 : 노드와 간산\n",
    "- 인접 행렬 방식  \n",
    "[[0,7,5],  \n",
    " [7,0,INF],  \n",
    " [5,INF,0]]  \n",
    "-> 0과 1 사이 7\n",
    "- 인접리스트 방식  \n",
    "[[(1,7),(2,5)], [(0,7)],[(0,5)]]  \n",
    "-> 0과 1사이 7, 0과 2 사이 5  \n",
    "  \n",
    "DFS는 스택 자료구조를 이용하며 구체적인 동작 과정은 다음과 같음\n",
    "1. 탐색 시작 노드를 스택에 삽입하고 방문처리 한다.\n",
    "2. 스택의 최상단 노드에 방문하지 않은 인접 노드가 있으면 그 인접 노드를 스택에 넣고 방문처리 한다. 방문하지 않은 인접 노드가 없으면 스택에서 최상단 노드를 꺼낸다.\n",
    "3. 2번의 과정을 더 이상 수행할 수 없을 때까지 반복한다.  \n",
    "※ 방문처리는 스택에 한 번 삽입되어 처리된 노드가 다시 삽입되지 않게 체크하는 것을 의미한다. 방문 처리를 함으로써 각 노드를 한 번씩만 처리할 수 있다."
   ]
  },
  {
   "cell_type": "markdown",
   "metadata": {},
   "source": [
    "![nn](./DFS_example.png)"
   ]
  },
  {
   "cell_type": "code",
   "execution_count": 8,
   "metadata": {},
   "outputs": [
    {
     "name": "stdout",
     "output_type": "stream",
     "text": [
      "1 2 7 6 8 3 4 5 "
     ]
    }
   ],
   "source": [
    "## DFS 예제\n",
    "# DFS 매서드 정의\n",
    "def dfs(graph, v, visited) : \n",
    "    # 현재 노드 방문 처리\n",
    "    visited[v] = True\n",
    "    print(v, end = ' ')\n",
    "    # 현재 노드와 연결된 다른 노드를 재귀적 방문\n",
    "    for i in graph[v] : \n",
    "        if not visited[i] :\n",
    "            dfs(grpah, i, visited)\n",
    "# 각 노드가 연결된 정보를 리스트 자료형으로 표현(2차원 리스트)\n",
    "graph = [\n",
    "    [],\n",
    "    [2,3,8],\n",
    "    [1,7],\n",
    "    [1,4,5],\n",
    "    [3,5],\n",
    "    [3,4],\n",
    "    [7],\n",
    "    [2,6,8],\n",
    "    [1,7]\n",
    "    ]\n",
    "\n",
    "# 각 노드가 방문된 정보를 리스트 자료형으로 표현(1차원 리스트)\n",
    "visited = [False] * 9\n",
    "\n",
    "# 정의된 DFS 함수 호출\n",
    "dfs(graph, 1, visited)"
   ]
  },
  {
   "cell_type": "markdown",
   "metadata": {},
   "source": [
    "BFS(Breadth First Search) : 너비 우선 탐색으로 가까운 노드부터 탐색하는 알고리즘  \n",
    "알고리즘 동작 방식은 다음과 같다.  \n",
    "1. 탐색 시작 노드를 큐에 삽입하고 방문처리 한다.\n",
    "2. 큐에서 노드를 꺼내 해당 노드의 인접 노드 중에서 방문하지 않은 노드를 모두 큐에 삽입하고 방문처리 한다.\n",
    "3. 2의 과정을 더 이상 수행할 수 없을 때까지 반복한다.  "
   ]
  },
  {
   "cell_type": "markdown",
   "metadata": {},
   "source": [
    "![nn](./BFS_example.png)"
   ]
  },
  {
   "cell_type": "code",
   "execution_count": 9,
   "metadata": {},
   "outputs": [
    {
     "name": "stdout",
     "output_type": "stream",
     "text": [
      "1 2 3 8 7 4 5 6 "
     ]
    }
   ],
   "source": [
    "## BFS 예제(보통 DFS보다 BFS 구현이 더 빠름)\n",
    "from collections import deque\n",
    "\n",
    "# bfs 매서드 정의\n",
    "def bfs(graph, start, visited) :\n",
    "    queue = deque([start])\n",
    "    # 현재 노드 방문처리\n",
    "    visited[start] = True\n",
    "    #큐가 빌 때까지 반복\n",
    "    while queue :\n",
    "        # 큐에서 원소 뽑아 출력\n",
    "        v = queue.popleft()\n",
    "        print(v, end = ' ')\n",
    "        # 해당 원소와 연결된 아직 방문하지 않은 원소들을 큐에 삽입\n",
    "        for i in graph[v] :\n",
    "            if not visited[i] :\n",
    "                queue.append(i)\n",
    "                visited[i] = True\n",
    "\n",
    "# 각 노드가 연결된 정보를 리스트 자료형으로 표현(2차원 리스트)\n",
    "graph = [\n",
    "    [],\n",
    "    [2,3,8],\n",
    "    [1,7],\n",
    "    [1,4,5],\n",
    "    [3,5],\n",
    "    [3,4],\n",
    "    [7],\n",
    "    [2,6,8],\n",
    "    [1,7]\n",
    "    ]\n",
    "\n",
    "# 각 노드가 방문된 정보를 리스트 자료형으로 표현(1차원 리스트)\n",
    "visited = [False] * 9\n",
    "\n",
    "# 정의된 BFS 함수 호출\n",
    "bfs(graph, 1, visited)"
   ]
  },
  {
   "cell_type": "markdown",
   "metadata": {},
   "source": [
    "## 실전문제1. 음료수 얼려먹기\n",
    "N x M 크기의 얼음 틀이 있다. 구멍이 뚫려 있는 부분은 0, 칸막이가 존재하는 부분은 1로 표시된다. 구멍이 뚫려 있는 부분끼리 상, 하, 좌, 우로 붙어있는 경우 서로 연결되어 있는 것으로 간주한다. 이 때 얼음틀의 모양이 주어졌을 때 생성되는 총 아이스크림의 개수를 구하는 프로그램을 작성하시오.  \n",
    "예를 들어,  \n",
    "00100  \n",
    "00011  \n",
    "11111  \n",
    "00000  \n",
    "-> 3개의 아이스크림 생성"
   ]
  },
  {
   "cell_type": "code",
   "execution_count": 10,
   "metadata": {},
   "outputs": [],
   "source": [
    "# DFS를 활용해 해결 가능\n",
    "# 1. 특정한 지점의 주변 상, 하, 좌, 우를 살펴본 뒤에 주변 지점 중에서 값이 0이면서 아직 방문하지 않은 지점이 있다면 해당 지점을 방문한다.\n",
    "# 2. 방문한 지점에서 다시 상, 하, 좌, 우를 살펴보면서 방문을 다시 진행하면, 연결된 모든 지점을 방문할 수 있다.\n",
    "# 3. 1~2 과정을 모든 노드에 반복하며 방문하지 않은 지점의 수를 센다."
   ]
  },
  {
   "cell_type": "code",
   "execution_count": 11,
   "metadata": {},
   "outputs": [
    {
     "name": "stdout",
     "output_type": "stream",
     "text": [
      "4 5\n",
      "00110\n",
      "00011\n",
      "11111\n",
      "00000\n",
      "3\n"
     ]
    }
   ],
   "source": [
    "n, m = map(int, input().split())\n",
    "\n",
    "# 2차원 리스트의 맵 정보 입력받기\n",
    "graph = []\n",
    "for i in range(n) :\n",
    "    graph.append(list(map(int, input())))\n",
    "    \n",
    "# DFS로 특정한 노드를 방문한 뒤 연결된 모든 노드 방문\n",
    "def dfs(x, y) :\n",
    "    # 주어진 범위 벗어나는 경우 즉시 종료\n",
    "    if x <= -1 or x >= n or y <= -1 or y >= m :\n",
    "        return False\n",
    "    #현재 노드를 아직 방문하지 않았다면\n",
    "    if graph[x][y] == 0:\n",
    "        #방문처리\n",
    "        graph[x][y] = 1\n",
    "        #상하좌우 위치도 모두 재귀적으로 호출\n",
    "        dfs(x-1, y)\n",
    "        dfs(x, y-1)\n",
    "        dfs(x+1, y)\n",
    "        dfs(x, y+1)\n",
    "        return True\n",
    "    return False\n",
    "\n",
    "# 모든 노드에 대해 음료수 채우기\n",
    "result = 0\n",
    "for i in range(n) :\n",
    "    for j in range(m) :\n",
    "        if dfs(i,j) == True :\n",
    "            result += 1\n",
    "print(result)"
   ]
  },
  {
   "cell_type": "markdown",
   "metadata": {},
   "source": [
    "## 실전문제2. 미로 탈출\n",
    "동빈이는 N x M 크기의 직사각형 형태의 미로에 갇혀 있다. 미로에는 여러 마리의 괴물이 있어 이를 피해 탈출해야 한다. 동빈이의 위치는 (1, 1)이고 미로의 출구는 (N, M)의 위치에 존재하며 한 번에 한 칸씩 이동할 수 있다. 이 때 괴물이 있는 부분은 0으로 괴물이 없는 부분은 1로 표시되어 있다. 미로는 반드시 탈출할 수 있는 형태로 제시된다. 이 때 동빈이가 탈출하기 위해 움직여야하는 최소 칸의 개수를 구하시오. 칸을 셀 때는 시작 칸과 마지막 칸을 모두 포함해서 계산한다.\n",
    "  \n",
    "<입력 조건>  \n",
    "첫째 줄에 두 정수 N, M이 주어집니다. 다음 N개의 줄에는 각각 M개의 정수로 미로의 정보가 주어진다. 각각의 수들은 공백 없이 붙어서 입력으로 제시된다. 또한 시작 칸과 마지막 칸은 항상 1이다.  \n",
    "<출력 조건>  \n",
    "첫째 줄에 최소 이동 칸의 개수를 출력한다.  \n",
    "  \n",
    "<입력 예시>  \n",
    "5 6  \n",
    "101010  \n",
    "111111  \n",
    "000001  \n",
    "111111  \n",
    "111111  \n",
    "<출력 예시>  \n",
    "10"
   ]
  },
  {
   "cell_type": "code",
   "execution_count": 13,
   "metadata": {},
   "outputs": [],
   "source": [
    "# 문제 해설\n",
    "# BFS를 이용해 효과적으로 해결. \n",
    "# BFS는 시작 지점에서 가까운 노드부터 차례대로 그래프의 모든 노드를 탐색하므로 (1, 1) 지점에서부터 BFS를 수행하여 모든 노드의 값을 \n",
    "# 거리 정보로 넣는다.\n",
    "# 특정 노드에 방문하면 그 이전 노드의 거리에 1을 더한 값을 리스트에 넣는다.\n",
    "\n",
    "# (1,1)에서 상하좌우 탐색 후 옆 노드인 (1,2)위치 노드 방문하고 새롭게 방문하는 (1,2) 노드의 값을 2로 바꿈 -> 반복하여 최단경로 찾기"
   ]
  },
  {
   "cell_type": "code",
   "execution_count": 19,
   "metadata": {},
   "outputs": [
    {
     "name": "stdout",
     "output_type": "stream",
     "text": [
      "5 6\n",
      "101010\n",
      "111111\n",
      "000001\n",
      "111111\n",
      "111111\n",
      "10\n"
     ]
    }
   ],
   "source": [
    "from collections import deque\n",
    "\n",
    "n,m = map(int, input().split())\n",
    "\n",
    "# 맵정보\n",
    "graph = []\n",
    "for i in range(n) :\n",
    "    graph.append(list(map(int, input())))\n",
    "    \n",
    "# 이동할 방향 정의(상하좌우)\n",
    "dx = [-1, 1, 0, 0]\n",
    "dy = [0,0,-1,1]\n",
    "\n",
    "# BFS 소스코드 구현\n",
    "def bfs(x,y) :\n",
    "    queue = deque()\n",
    "    queue.append((x,y))\n",
    "    \n",
    "    # 큐가 빌 때까지 반복\n",
    "    while queue :\n",
    "        x,y = queue.popleft()\n",
    "        # 현재 위치에서 네 방향으로의 위치 확인\n",
    "        for i in range(4) :\n",
    "            nx = x + dx[i]\n",
    "            ny = y + dy[i]\n",
    "            \n",
    "            # 공간 벗어나면 무시\n",
    "            if nx < 0 or ny < 0 or nx >= n or ny >= m :\n",
    "                continue\n",
    "            #벽인 경우 무시\n",
    "            if graph[nx][ny] == 0 :\n",
    "                continue\n",
    "            # 해당 노드를 처음 방문하는 경우에만 최단 거리 기록\n",
    "            if graph[nx][ny] == 1 :\n",
    "                graph[nx][ny] = graph[x][y] + 1\n",
    "                queue.append((nx,ny))\n",
    "    return graph[n-1][m-1] # 가장 오른쪽 아래까지의 최단 거리 반환\n",
    "    \n",
    "print(bfs(0,0))"
   ]
  },
  {
   "cell_type": "markdown",
   "metadata": {},
   "source": [
    "## 백준 연습문제\n",
    "DFS/BFS - 각각 1개  \n",
    "깊이우선탐색(DFS) : https://www.acmicpc.net/problemset?sort=ac_desc&algo=127  \n",
    "너비우선탐색(BFS) : https://www.acmicpc.net/problemset?sort=ac_desc&algo=126"
   ]
  },
  {
   "cell_type": "markdown",
   "metadata": {},
   "source": [
    "### DFS | 2606.바이러스\n",
    "https://www.acmicpc.net/problem/2606  \n",
    "신종 바이러스인 웜 바이러스는 네트워크를 통해 전파된다. 한 컴퓨터가 웜 바이러스에 걸리면 그 컴퓨터와 네트워크 상에서 연결되어 있는 모든 컴퓨터는 웜 바이러스에 걸리게 된다.\n",
    "\n",
    "예를 들어 7대의 컴퓨터가 <그림 1>과 같이 네트워크 상에서 연결되어 있다고 하자. 1번 컴퓨터가 웜 바이러스에 걸리면 웜 바이러스는 2번과 5번 컴퓨터를 거쳐 3번과 6번 컴퓨터까지 전파되어 2, 3, 5, 6 네 대의 컴퓨터는 웜 바이러스에 걸리게 된다. 하지만 4번과 7번 컴퓨터는 1번 컴퓨터와 네트워크상에서 연결되어 있지 않기 때문에 영향을 받지 않는다.\n",
    "\n",
    "![baekjoon_dfs_2606](./baekjoon_dfs_2606.png)\n",
    "\n",
    "어느 날 1번 컴퓨터가 웜 바이러스에 걸렸다. 컴퓨터의 수와 네트워크 상에서 서로 연결되어 있는 정보가 주어질 때, 1번 컴퓨터를 통해 웜 바이러스에 걸리게 되는 컴퓨터의 수를 출력하는 프로그램을 작성하시오.  \n",
    "  \n",
    "  \n",
    "<입력 조건>  \n",
    "첫째 줄에는 컴퓨터의 수가 주어진다. 컴퓨터의 수는 100 이하이고 각 컴퓨터에는 1번 부터 차례대로 번호가 매겨진다. 둘째 줄에는 네트워크 상에서 직접 연결되어 있는 컴퓨터 쌍의 수가 주어진다. 이어서 그 수만큼 한 줄에 한 쌍씩 네트워크 상에서 직접 연결되어 있는 컴퓨터의 번호 쌍이 주어진다.  \n",
    "<출력 조건>  \n",
    "1번 컴퓨터가 웜 바이러스에 걸렸을 때, 1번 컴퓨터를 통해 웜 바이러스에 걸리게 되는 컴퓨터의 수를 첫째 줄에 출력한다.\n",
    "  \n",
    "<입력 예시>  \n",
    "7  \n",
    "6  \n",
    "1 2  \n",
    "2 3  \n",
    "1 5  \n",
    "5 2  \n",
    "5 6  \n",
    "4 7  \n",
    "<출력 예시>  \n",
    "4"
   ]
  },
  {
   "cell_type": "code",
   "execution_count": 31,
   "metadata": {},
   "outputs": [
    {
     "name": "stdout",
     "output_type": "stream",
     "text": [
      "7\n",
      "6\n",
      "1 2\n",
      "2 3\n",
      "1 5\n",
      "5 2\n",
      "5 6\n",
      "4 7\n",
      "4\n"
     ]
    }
   ],
   "source": [
    "n = int(input())# 컴퓨터의 수\n",
    "m = int(input())# 연결된 컴퓨터 쌍의 수\n",
    "\n",
    "# 인접리스트 graph 선언 및 입력받기\n",
    "graph = [[] for _ in range(n+1)]\n",
    "for _ in range(m):# 연결된 컴퓨터 쌍의 수만큼 반복\n",
    "    x, y = map(int, input().split())\n",
    "    graph[x].append(y)\n",
    "    graph[y].append(x)\n",
    "\n",
    "visited = [0] * (n+1) # 방문처리 : 방문한 컴퓨터 수를 출력해야하므로 visited 에 True/False가 아닌 0/1로 처리\n",
    "\n",
    "def dfs(graph, v, visited):\n",
    "    visited[v] = 1\n",
    "    for i in graph[v]:\n",
    "        if visited[i] == 0:\n",
    "            dfs(graph, i, visited)\n",
    "    return True\n",
    "\n",
    "dfs(graph, 1, visited)\n",
    "print(sum(visited)-1)# 방문한 컴퓨터 개수 - 1번 컴퓨터"
   ]
  },
  {
   "cell_type": "markdown",
   "metadata": {},
   "source": [
    "### 2178.미로탐색\n",
    "https://www.acmicpc.net/problem/2178  \n",
    "N×M크기의 배열로 표현되는 미로가 있다.  \n",
    "![baekjoon_bfs_2178](./baekjoon_bfs_2178.png)\n",
    "\n",
    "미로에서 1은 이동할 수 있는 칸을 나타내고, 0은 이동할 수 없는 칸을 나타낸다. 이러한 미로가 주어졌을 때, (1, 1)에서 출발하여 (N, M)의 위치로 이동할 때 지나야 하는 최소의 칸 수를 구하는 프로그램을 작성하시오. 한 칸에서 다른 칸으로 이동할 때, 서로 인접한 칸으로만 이동할 수 있다.\n",
    "\n",
    "위의 예에서는 15칸을 지나야 (N, M)의 위치로 이동할 수 있다. 칸을 셀 때에는 시작 위치와 도착 위치도 포함한다.\n",
    "  \n",
    "  \n",
    "<입력 조건>  \n",
    "첫째 줄에 두 정수 N, M(2 ≤ N, M ≤ 100)이 주어진다. 다음 N개의 줄에는 M개의 정수로 미로가 주어진다. 각각의 수들은 붙어서 입력으로 주어진다.  \n",
    "<출력 조건>  \n",
    "첫째 줄에 지나야 하는 최소의 칸 수를 출력한다. 항상 도착위치로 이동할 수 있는 경우만 입력으로 주어진다.  \n",
    "  \n",
    "<입력 예시>  \n",
    "4 6  \n",
    "101111  \n",
    "101010  \n",
    "101011  \n",
    "111011  \n",
    "<출력 예시>  \n",
    "15"
   ]
  },
  {
   "cell_type": "code",
   "execution_count": 34,
   "metadata": {},
   "outputs": [
    {
     "name": "stdout",
     "output_type": "stream",
     "text": [
      "4 6\n",
      "101111\n",
      "101010\n",
      "101011\n",
      "111011\n",
      "15\n"
     ]
    }
   ],
   "source": [
    "from collections import deque\n",
    "\n",
    "n,m = map(int, input().split())\n",
    "# 2차원 맵 정보\n",
    "graph = []\n",
    "for i in range(n):\n",
    "    graph.append(list(map(int, input())))\n",
    "\n",
    "# 이동할 방향 정의(상하좌우)\n",
    "dx = [-1, 1, 0, 0]\n",
    "dy = [0,0,-1,1]\n",
    "\n",
    "def bfs(x,y) :\n",
    "    queue = deque()\n",
    "    queue.append((x,y))\n",
    "    \n",
    "    while queue :\n",
    "        x, y = queue.popleft()\n",
    "        for i in range(4):\n",
    "            nx = x + dx[i]\n",
    "            ny = y + dy[i]\n",
    "            \n",
    "            # 공간 벗어나면 무시\n",
    "            if nx < 0 or ny < 0 or nx >= n or ny >= m :\n",
    "                continue\n",
    "            #벽인 경우 무시\n",
    "            if graph[nx][ny] == 0 :\n",
    "                continue\n",
    "            # 해당 노드를 처음 방문하는 경우에만 최단 거리 기록\n",
    "            if graph[nx][ny] == 1 :\n",
    "                graph[nx][ny] = graph[x][y] + 1\n",
    "                queue.append((nx,ny))\n",
    "    return graph[n-1][m-1] # 가장 오른쪽 아래까지의 최단 거리 반환\n",
    "\n",
    "print(bfs(0,0))"
   ]
  }
 ],
 "metadata": {
  "kernelspec": {
   "display_name": "Python 3",
   "language": "python",
   "name": "python3"
  },
  "language_info": {
   "codemirror_mode": {
    "name": "ipython",
    "version": 3
   },
   "file_extension": ".py",
   "mimetype": "text/x-python",
   "name": "python",
   "nbconvert_exporter": "python",
   "pygments_lexer": "ipython3",
   "version": "3.7.3"
  }
 },
 "nbformat": 4,
 "nbformat_minor": 2
}
