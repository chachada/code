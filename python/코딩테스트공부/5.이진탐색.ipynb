{
 "cells": [
  {
   "cell_type": "code",
   "execution_count": 1,
   "metadata": {},
   "outputs": [],
   "source": [
    "# 참고\n",
    "# 나동빈, 『이것이 코딩 테스트다 with 파이썬』, 한빛미디어-2021.07.12, 186-205"
   ]
  },
  {
   "cell_type": "markdown",
   "metadata": {},
   "source": [
    "# 5. 이진탐색\n",
    "- 순차탐색 :  \n",
    "리스트 안에 있는 특정한 데이터를 찾기 위해 앞에서부터 데이터를 차례대로 확인하는 방법\n",
    "\n",
    "- 이진탐색 :   \n",
    "시작점, 끝점, 중간점 세 개의 변수를 활용해 찾으려는 데이터와 중간점 위치에 있는 데이터를 반복적으로 비교하여 원하는 데이터를 찾는 방법"
   ]
  },
  {
   "cell_type": "code",
   "execution_count": 3,
   "metadata": {},
   "outputs": [
    {
     "name": "stdout",
     "output_type": "stream",
     "text": [
      "10 7\n",
      "1 3 5 7 9 11 13 15 17 19\n",
      "4\n"
     ]
    }
   ],
   "source": [
    "## 재귀함수로 구현한 이진 탐색 소스 코드\n",
    "def binary_search(array, target, start, end) : \n",
    "    if start > end :\n",
    "        return None\n",
    "    mid = (start + end) // 2 # 중간점 인덱스\n",
    "    \n",
    "    if array[mid] == target :\n",
    "        return mid\n",
    "    \n",
    "    # 중간점 보다 작은 경우 왼쪽 확인\n",
    "    elif array[mid] > target :\n",
    "        return binary_search(array, target, start, mid - 1)\n",
    "    \n",
    "    # 중간점 보다 큰 경우 오른쪽 확인\n",
    "    else :\n",
    "        return binary_search(array, target, mid + 1, end)\n",
    "\n",
    "n, target = list(map(int, input().split()))\n",
    "array = list(map(int, input().split()))\n",
    "\n",
    "# 이진 탐색 수행 결과 출력\n",
    "result = binary_search(array, target, 0, n-1)\n",
    "if result == None :\n",
    "    print('원소가 존재하지 않습니다.')\n",
    "else :\n",
    "    print(result + 1)"
   ]
  },
  {
   "cell_type": "code",
   "execution_count": 5,
   "metadata": {},
   "outputs": [],
   "source": [
    "# 10개 원소로 이뤄져 있는 array에서 7은 4번째 숫자에 해당"
   ]
  },
  {
   "cell_type": "markdown",
   "metadata": {},
   "source": [
    "## 실전문제1. 부품찾기\n",
    "동빈이네 전자 매장에는 부품이 N개 있다. 각 부품은 정수 형태의 고유한 번호가 있다. 어느 날 손님이 M개의 종류의 부품을 대량으로 구매하겠다며 당일 날 견적서를 요청했다. 동빈이는 때를 놓치지 않고 손님이 문의한 부품 M개 종류를 모두 확인해서 견적서를 작성해야 한다. 이 때 가게 안에 부품이 모두 있는지 확인하는 프로그램을 작성해보자.   \n",
    "예를 들어 가게의 부품이 총 5개일 때 부품 번호가 다음과 같다고 하자.  \n",
    "N = 5, [8,3,7,9,2]    \n",
    "손님은 총 3개의 부품이 있는지 확인 요청했는데 부품 번호는 다음과 같다.  \n",
    "M = 3, [5,7,9]  \n",
    "이 때 손님이 요청한 부품 번호의 순서대로 부품을 확인해 부품이 있으면 yes를 없으면 no를 출력한다. 구분은 공백으로 한다."
   ]
  },
  {
   "cell_type": "code",
   "execution_count": 6,
   "metadata": {},
   "outputs": [
    {
     "name": "stdout",
     "output_type": "stream",
     "text": [
      "5\n",
      "8 3 7 9 2\n",
      "3\n",
      "5 7 9\n",
      "no yes yes "
     ]
    }
   ],
   "source": [
    "## 재귀함수로 구현한 이진 탐색 소스 코드\n",
    "def binary_search(array, target, start, end) : \n",
    "    if start > end :\n",
    "        return None\n",
    "    mid = (start + end) // 2 # 중간점 인덱스\n",
    "    \n",
    "    if array[mid] == target :\n",
    "        return mid\n",
    "    \n",
    "    # 중간점 보다 작은 경우 왼쪽 확인\n",
    "    elif array[mid] > target :\n",
    "        return binary_search(array, target, start, mid - 1)\n",
    "    \n",
    "    # 중간점 보다 큰 경우 오른쪽 확인\n",
    "    else :\n",
    "        return binary_search(array, target, mid + 1, end)\n",
    "    \n",
    "n = int(input()) # 가게 부품\n",
    "\n",
    "array = list(map(int, input().split()))\n",
    "array.sort() #부품 정렬\n",
    "\n",
    "m = int(input()) # 요청 부품\n",
    "x = list(map(int, input().split()))\n",
    "\n",
    "# 부품 확인\n",
    "for i in x :\n",
    "    result = binary_search(array, i, 0, n-1)\n",
    "    if result != None :\n",
    "        print('yes', end=' ')\n",
    "    else :\n",
    "        print('no', end = ' ')"
   ]
  },
  {
   "cell_type": "code",
   "execution_count": 7,
   "metadata": {},
   "outputs": [],
   "source": [
    "# 추가로 계수 정렬을 사용하거나 집합 자료형을 사용해 답을 도출할 수 있다."
   ]
  },
  {
   "cell_type": "markdown",
   "metadata": {},
   "source": [
    "## 실전문제 2. 떡볶이 떡 만들기\n",
    "동빈이는 여행 가신 부모님을 대신해서 떡집 일을 하기로 했다. 오늘은 떡볶이 떡을 만드는 날이다. 동빈이네 떡볶이 떡은 재밌게도 떡의 길이가 일정하지 않다. 대신에 한 봉지 안에 들어가는 떡의 총 길이는 절단기로 잘라서 맞춰준다.  \n",
    "절단기에 높이(H)를 지정하면 줄지어진 떡을 한 번에 절단한다. 높이가 H보다 긴 떡은 H 위의 부분이 잘릴 것이고, 낮은 떡은 잘리지 않는다.  \n",
    "예를 들어 높이가 19, 14, 10, 17cm인 떡이 나란히 있고 절단기 높이를 15cm로 지정하면 자른뒤 떡의 높이는 15, 14, 10, 15cm가 될 것이다. 잘린 떡의 길이는 차례대로 4, 0, 0, 2cm이다. 손님은 6cm만큼의 길이를 가져간다.  \n",
    "손님이 왔을 때 요청한 총 길이가 M일 때 적어도 M만큼의 떡을 얻기 위해 절단기에 설정할 수 있는 높이의 최대값을 구하는 프로그램을 작성하시오.  \n",
    "  \n",
    "<입력 예시>  \n",
    "4 6  \n",
    "19 15 10 17  \n",
    "<출력 예시>  \n",
    "15"
   ]
  },
  {
   "cell_type": "code",
   "execution_count": 10,
   "metadata": {},
   "outputs": [
    {
     "name": "stdout",
     "output_type": "stream",
     "text": [
      "4 6\n",
      "19 15 10 17\n",
      "15\n"
     ]
    }
   ],
   "source": [
    "n, m = map(int, input().split()) # 떡 개수, 요청 길이\n",
    "array = list(map(int, input().split())) # 떡 길이\n",
    "\n",
    "# 이진 탐색을 위한 시작점과 끝 점 설정\n",
    "start = 0\n",
    "end = max(array)\n",
    "\n",
    "# 이진 탐색\n",
    "result = 0\n",
    "while (start <= end) :\n",
    "    total = 0\n",
    "    mid = (start + end) // 2\n",
    "    \n",
    "    for x in array :\n",
    "        # 중간점 보다 크면 떡 나옴\n",
    "        if x > mid :\n",
    "            total += x - mid\n",
    "        \n",
    "    # 만약 자른 떡의 양이 요청한 양보다 작다면 중간점 땡겨야하니깐 end -> mid-1로\n",
    "    if total < m :\n",
    "        end = mid - 1\n",
    "    # 만약 자른 떡의 양이 요청한 양보다 크다면 중간점 밀어야하니깐 start -> mid+1로\n",
    "    else : \n",
    "        result = mid # 최대한 덜 잘려야하므로 여기서 저장\n",
    "        start = mid + 1\n",
    "        \n",
    "print(result)"
   ]
  },
  {
   "cell_type": "markdown",
   "metadata": {},
   "source": [
    "## 백준 연습문제\n",
    "2개  \n",
    "https://www.acmicpc.net/problemset?sort=ac_desc&algo=12"
   ]
  },
  {
   "cell_type": "markdown",
   "metadata": {},
   "source": [
    "### 1920. 수 찾기\n",
    "https://www.acmicpc.net/problem/1920  \n",
    "N개의 정수 A[1], A[2], …, A[N]이 주어져 있을 때, 이 안에 X라는 정수가 존재하는지 알아내는 프로그램을 작성하시오.\n",
    "  \n",
    "<입력 조건>  \n",
    "첫째 줄에 자연수 N(1 ≤ N ≤ 100,000)이 주어진다. 다음 줄에는 N개의 정수 A[1], A[2], …, A[N]이 주어진다. 다음 줄에는 M(1 ≤ M ≤ 100,000)이 주어진다. 다음 줄에는 M개의 수들이 주어지는데, 이 수들이 A안에 존재하는지 알아내면 된다. 모든 정수의 범위는 -2^31 보다 크거나 같고 2^31보다 작다.  \n",
    "<출력 조건>  \n",
    "M개의 줄에 답을 출력한다. 존재하면 1을, 존재하지 않으면 0을 출력한다.  \n",
    "  \n",
    "<입력 예시>  \n",
    "5  \n",
    "4 1 5 2 3  \n",
    "5  \n",
    "1 3 7 9 5   \n",
    "<출력 예시>  \n",
    "1  \n",
    "1  \n",
    "0  \n",
    "0  \n",
    "1"
   ]
  },
  {
   "cell_type": "code",
   "execution_count": 26,
   "metadata": {},
   "outputs": [
    {
     "name": "stdout",
     "output_type": "stream",
     "text": [
      "5\n",
      "4 1 5 2 3\n",
      "5\n",
      "1 3 7 9 5\n",
      "1\n",
      "1\n",
      "0\n",
      "0\n",
      "1\n"
     ]
    }
   ],
   "source": [
    "from sys import stdin\n",
    "n = int(input())\n",
    "array = list(map(int, input().split()))\n",
    "# array = list(map(int, stdin.readline().split()))\n",
    "array.sort() # 이진탐색을 위한 array 정렬\n",
    "\n",
    "m = int(input())\n",
    "\n",
    "x = list(map(int, input().split()))\n",
    "# x = list(map(int, stdin.readline().split()))\n",
    "\n",
    "\n",
    "start = 0 \n",
    "end = n - 1\n",
    "for i in x :\n",
    "    start = 0 \n",
    "    end = n - 1\n",
    "    result = 0\n",
    "    while start <= end : \n",
    "        mid = (start + end)//2\n",
    "\n",
    "        if i == array[mid] :\n",
    "            result = 1\n",
    "            break\n",
    "        elif i > array[mid] :\n",
    "            start = mid + 1\n",
    "        else :\n",
    "            end = mid - 1\n",
    "    print(result)"
   ]
  },
  {
   "cell_type": "markdown",
   "metadata": {},
   "source": [
    "## 2512. 예산\n",
    "https://www.acmicpc.net/problem/2512  \n",
    "국가의 역할 중 하나는 여러 지방의 예산요청을 심사하여 국가의 예산을 분배하는 것이다. 국가예산의 총액은 미리 정해져 있어서 모든 예산요청을 배정해 주기는 어려울 수도 있다. 그래서 정해진 총액 이하에서 가능한 한 최대의 총 예산을 다음과 같은 방법으로 배정한다.\n",
    "\n",
    "모든 요청이 배정될 수 있는 경우에는 요청한 금액을 그대로 배정한다.\n",
    "모든 요청이 배정될 수 없는 경우에는 특정한 정수 상한액을 계산하여 그 이상인 예산요청에는 모두 상한액을 배정한다. 상한액 이하의 예산요청에 대해서는 요청한 금액을 그대로 배정한다. \n",
    "예를 들어, 전체 국가예산이 485이고 4개 지방의 예산요청이 각각 120, 110, 140, 150이라고 하자. 이 경우, 상한액을 127로 잡으면, 위의 요청들에 대해서 각각 120, 110, 127, 127을 배정하고 그 합이 484로 가능한 최대가 된다. \n",
    "\n",
    "여러 지방의 예산요청과 국가예산의 총액이 주어졌을 때, 위의 조건을 모두 만족하도록 예산을 배정하는 프로그램을 작성하시오.  \n",
    "  \n",
    "<입력 조건>  \n",
    "첫째 줄에는 지방의 수를 의미하는 정수 N이 주어진다. N은 3 이상 10,000 이하이다. 다음 줄에는 각 지방의 예산요청을 표현하는 N개의 정수가 빈칸을 사이에 두고 주어진다. 이 값들은 모두 1 이상 100,000 이하이다. 그 다음 줄에는 총 예산을 나타내는 정수 M이 주어진다. M은 N 이상 1,000,000,000 이하이다.   \n",
    "<출력 조건>  \n",
    "첫째 줄에는 배정된 예산들 중 최댓값인 정수를 출력한다.   \n",
    "  \n",
    "<입력 예시>  \n",
    "4  \n",
    "120 110 140 150  \n",
    "485  \n",
    "<출력 예시>  \n",
    "127"
   ]
  },
  {
   "cell_type": "code",
   "execution_count": 28,
   "metadata": {},
   "outputs": [
    {
     "name": "stdout",
     "output_type": "stream",
     "text": [
      "5\n",
      "70 80 30 40 100\n",
      "450\n",
      "100\n"
     ]
    }
   ],
   "source": [
    "from sys import stdin\n",
    "n = int(input())\n",
    "\n",
    "array = list(map(int, input().split())) # 예산액\n",
    "# array = list(map(int, stdin.readline().split()))\n",
    "\n",
    "m = int(input()) # 예산총액 상한선\n",
    "\n",
    "\n",
    "start = 0\n",
    "end = max(array)\n",
    "result = 0\n",
    "while start <= end :\n",
    "    total = 0 # 예산 총액 계산용\n",
    "    mid = (start + end) // 2 # 각 부처 상한선\n",
    "    \n",
    "    for i in array :\n",
    "        if i >= mid :\n",
    "            total += mid\n",
    "        else :\n",
    "            total += i\n",
    "    \n",
    "    if total > m :\n",
    "        end = mid - 1\n",
    "    if total <= m : \n",
    "        result = mid\n",
    "        start = mid + 1\n",
    "print(result)"
   ]
  }
 ],
 "metadata": {
  "kernelspec": {
   "display_name": "Python 3",
   "language": "python",
   "name": "python3"
  },
  "language_info": {
   "codemirror_mode": {
    "name": "ipython",
    "version": 3
   },
   "file_extension": ".py",
   "mimetype": "text/x-python",
   "name": "python",
   "nbconvert_exporter": "python",
   "pygments_lexer": "ipython3",
   "version": "3.7.3"
  }
 },
 "nbformat": 4,
 "nbformat_minor": 2
}
