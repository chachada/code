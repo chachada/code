{
 "cells": [
  {
   "cell_type": "code",
   "execution_count": null,
   "metadata": {},
   "outputs": [],
   "source": [
    "# 참고\n",
    "# 나동빈, 『이것이 코딩 테스트다 with 파이썬』, 한빛미디어-2021.07.12, 124-1154"
   ]
  },
  {
   "cell_type": "markdown",
   "metadata": {},
   "source": [
    "# 9.스택과 큐\n",
    "\n",
    "자료구조 : 데이터를 표현하고 관리하고 처리하기 위한 구조\n",
    "- 스택 & 큐 : 삽입(push)과 삭제(pop) 두 핵심적인 함수로 구성\n",
    "\n",
    "스택 : 박스 쌓기에 비유 가능, 흔히 박스는 아래에서 위로 쌓고 아래에 있는 박스를 치우기 위해서는 위에 있는 박스를 내려야함  \n",
    "-> 이런 구조를 선입후출 or 후입선출이라고 함\n",
    "  \n",
    "큐 : 대기 줄에 비유 가능, 먼저 온 사람이 먼저 들어가기  \n",
    "-> 이런 구조를 선입선출이라고 함\n",
    "- collections의 deque 모듈 사용"
   ]
  },
  {
   "cell_type": "code",
   "execution_count": 2,
   "metadata": {},
   "outputs": [
    {
     "name": "stdout",
     "output_type": "stream",
     "text": [
      "[5, 2, 3, 1]\n",
      "[1, 3, 2, 5]\n"
     ]
    }
   ],
   "source": [
    "# 스택 예제\n",
    "stack = []\n",
    "\n",
    "# 삽입(5) - 삽입(2) - 삽입(3) - 삽입(7) - 삭제() - 삽입(1) - 삽입(4) - 삭제()\n",
    "stack.append(5)\n",
    "stack.append(2)\n",
    "stack.append(3)\n",
    "stack.append(7)\n",
    "stack.pop()\n",
    "stack.append(1)\n",
    "stack.append(4)\n",
    "stack.pop() # 가장 최근에 삽입된 데이터 삭제(리스트에서 가장 오른쪽)\n",
    "\n",
    "print(stack) # 최하단 원소부터 출력\n",
    "print(stack[::-1]) # 최상단 원소부터 출력"
   ]
  },
  {
   "cell_type": "code",
   "execution_count": 3,
   "metadata": {},
   "outputs": [
    {
     "name": "stdout",
     "output_type": "stream",
     "text": [
      "deque([3, 7, 1, 4])\n",
      "deque([4, 1, 7, 3])\n"
     ]
    }
   ],
   "source": [
    "## 큐 예제\n",
    "from collections import deque\n",
    "\n",
    "# queue 생성\n",
    "queue = deque()\n",
    "\n",
    "# 삽입(5) - 삽입(2) - 삽입(3) - 삽입(7) - 삭제() - 삽입(1) - 삽입(4) - 삭제()\n",
    "queue.append(5) # 5\n",
    "queue.append(2) # 2 5\n",
    "queue.append(3) # 3 2 5\n",
    "queue.append(7) # 7 3 2 5\n",
    "queue.popleft() # 7 3 2\n",
    "queue.append(1) # 1 7 3 2\n",
    "queue.append(4) # 4 1 7 3 2\n",
    "queue.popleft() # 4 1 7 3\n",
    "\n",
    "print(queue) # 먼저 들어온 순서대로 출력\n",
    "queue.reverse() # 역순\n",
    "print(queue) # 나중에 들어온 원소부터 출력"
   ]
  },
  {
   "cell_type": "markdown",
   "metadata": {},
   "source": [
    "## 프로그래머스_코딩테스트 연습 - 스택과 큐\n",
    "https://programmers.co.kr/learn/courses/30/parts/12081"
   ]
  },
  {
   "cell_type": "markdown",
   "metadata": {},
   "source": [
    "### 1. 기능개발 - Lv2\n",
    "프로그래머스 팀에서는 기능 개선 작업을 수행 중입니다. 각 기능은 진도가 100%일 때 서비스에 반영할 수 있습니다.\n",
    "\n",
    "또, 각 기능의 개발속도는 모두 다르기 때문에 뒤에 있는 기능이 앞에 있는 기능보다 먼저 개발될 수 있고, 이때 뒤에 있는 기능은 앞에 있는 기능이 배포될 때 함께 배포됩니다.\n",
    "\n",
    "먼저 배포되어야 하는 순서대로 작업의 진도가 적힌 정수 배열 progresses와 각 작업의 개발 속도가 적힌 정수 배열 speeds가 주어질 때 각 배포마다 몇 개의 기능이 배포되는지를 return 하도록 solution 함수를 완성하세요.\n",
    "  \n",
    "<제한 사항>  \n",
    "작업의 개수(progresses, speeds배열의 길이)는 100개 이하입니다.  \n",
    "작업 진도는 100 미만의 자연수입니다.  \n",
    "작업 속도는 100 이하의 자연수입니다.  \n",
    "배포는 하루에 한 번만 할 수 있으며, 하루의 끝에 이루어진다고 가정합니다. 예를 들어 진도율이 95%인 작업의 개발 속도가 하루에 4%라면 배포는 2일 뒤에 이루어집니다.  \n",
    "  \n",
    "<입력 예시>  \n",
    "[93, 30, 55]  : progresses  \n",
    "[1, 30, 5]    : speeds\n",
    "    \n",
    "<출력 예시>  \n",
    "[2, 1]  \n",
    "  \n",
    "<입력 예시>  \n",
    "[95, 90, 99, 99, 80, 99]  : progresses  \n",
    "[1, 1, 1, 1, 1, 1]        : speeds\n",
    "    \n",
    "<출력 예시>  \n",
    "[1, 3, 2] "
   ]
  },
  {
   "cell_type": "code",
   "execution_count": 46,
   "metadata": {},
   "outputs": [],
   "source": [
    "# progresses = [93, 30, 55]\n",
    "# speeds = [1, 30, 5]\n",
    "progresses = [95, 90, 99, 99, 80, 99]\n",
    "speeds = [1, 1, 1, 1, 1, 1]"
   ]
  },
  {
   "cell_type": "code",
   "execution_count": 47,
   "metadata": {},
   "outputs": [
    {
     "data": {
      "text/plain": [
       "[1, 3, 2]"
      ]
     },
     "execution_count": 47,
     "metadata": {},
     "output_type": "execute_result"
    }
   ],
   "source": [
    "def solution(progresses, speeds):\n",
    "    answer = []\n",
    "    \n",
    "    while progresses :\n",
    "        progresses = [progresses[i] + speeds[i] for i in range(len(progresses))] # 매일 진행도 추가\n",
    "\n",
    "        cnt = 0 # 완료된 개수 세기\n",
    "        while progresses[0] >= 100 : # 1번부터 100이 되어야 뒤에 개발 완료 된 것들 추출가능\n",
    "            progresses.pop(0) # 1번이 완료되면 추출(0번째 인덱스값 추출)\n",
    "            speeds.pop(0) # 1번 완료되면 스피드 필요없어지므로 추출\n",
    "            cnt += 1 # 완료된 개수 세기\n",
    "            if len(progresses) < 1 : # 개발 완료 후 작업 없으면 종료\n",
    "                break\n",
    "\n",
    "        if cnt > 0 : # 완료된 것이 1개 이상인 날의 개수만 결과에 추가\n",
    "            answer.append(cnt)\n",
    "\n",
    "    return answer\n",
    "\n",
    "solution(progresses, speeds)"
   ]
  },
  {
   "cell_type": "markdown",
   "metadata": {},
   "source": [
    "### 2. 프린터 - Lv2\n",
    "일반적인 프린터는 인쇄 요청이 들어온 순서대로 인쇄합니다. 그렇기 때문에 중요한 문서가 나중에 인쇄될 수 있습니다. 이런 문제를 보완하기 위해 중요도가 높은 문서를 먼저 인쇄하는 프린터를 개발했습니다. 이 새롭게 개발한 프린터는 아래와 같은 방식으로 인쇄 작업을 수행합니다.\n",
    "  \n",
    "*__1. 인쇄 대기목록의 가장 앞에 있는 문서(J)를 대기목록에서 꺼냅니다.__  \n",
    "__2. 나머지 인쇄 대기목록에서 J보다 중요도가 높은 문서가 한 개라도 존재하면 J를 대기목록의 가장 마지막에 넣습니다.__    \n",
    "__3. 그렇지 않으면 J를 인쇄합니다.__*    \n",
    "    \n",
    "예를 들어, 4개의 문서(A, B, C, D)가 순서대로 인쇄 대기목록에 있고 중요도가 2 1 3 2 라면 C D A B 순으로 인쇄하게 됩니다.\n",
    "\n",
    "내가 인쇄를 요청한 문서가 몇 번째로 인쇄되는지 알고 싶습니다. 위의 예에서 C는 1번째로, A는 3번째로 인쇄됩니다.\n",
    "\n",
    "현재 대기목록에 있는 문서의 중요도가 순서대로 담긴 배열 priorities와 내가 인쇄를 요청한 문서가 현재 대기목록의 어떤 위치에 있는지를 알려주는 location이 매개변수로 주어질 때, 내가 인쇄를 요청한 문서가 몇 번째로 인쇄되는지 return 하도록 solution 함수를 작성해주세요.  \n",
    "  \n",
    "<제한 사항>  \n",
    "현재 대기목록에는 1개 이상 100개 이하의 문서가 있습니다.  \n",
    "인쇄 작업의 중요도는 1~9로 표현하며 숫자가 클수록 중요하다는 뜻입니다.  \n",
    "location은 0 이상 (현재 대기목록에 있는 작업 수 - 1) 이하의 값을 가지며 대기목록의 가장 앞에 있으면 0, 두 번째에 있으면 1로 표현합니다.  \n",
    "  \n",
    "<입력 예시>  \n",
    "[2, 1, 3, 2]  : priorities    \n",
    "2             : location  \n",
    "    \n",
    "<출력 예시>  \n",
    "1  \n",
    "  \n",
    "<입력 예시>  \n",
    "[1, 1, 9, 1, 1, 1]  : priorities    \n",
    "0                   : location  \n",
    "    \n",
    "<출력 예시>  \n",
    "5 "
   ]
  },
  {
   "cell_type": "code",
   "execution_count": 13,
   "metadata": {},
   "outputs": [
    {
     "data": {
      "text/plain": [
       "1"
      ]
     },
     "execution_count": 13,
     "metadata": {},
     "output_type": "execute_result"
    }
   ],
   "source": [
    "# 시도1.\n",
    "priorities = [2, 1, 3, 2]\n",
    "location = 2\n",
    "# priorities = [1, 1, 9, 1, 1, 1]\n",
    "# location = 0\n",
    "def solution(priorities, location):\n",
    "    \n",
    "    idx = [x for x in range(len(priorities))] # 인쇄 문서 고유번호 저장\n",
    "    print_idx_lst = [] # 정해진 순서대로 인쇄 문서 고유번호 저장하는 리스트\n",
    "    \n",
    "    while priorities :\n",
    "        tmp_priority = priorities.pop(0) # 인쇄목록 제일 앞 원소 추출\n",
    "        tmp_idx = idx.pop(0) # 인쇄목록 제일 앞 원소의 고유번호 추출\n",
    "\n",
    "        if tmp_priority < max(priorities) : # 뒤에 우선순위가 높은 것이 남아있다면\n",
    "            priorities.append(tmp_priority) # 추출한 원소 다시 인쇄목록에 넣기\n",
    "            idx.append(tmp_idx) # 추출한 원소의 고유번호 다시 인쇄목록에 넣기\n",
    "        else : # 해당 문서의 우선순위가 가장 높거나 같다면\n",
    "            print_idx_lst.append(tmp_idx) # 인쇄 고유번호 저장\n",
    "            if tmp_idx == location : # 저장된 고유번호가 내가 요청한 문서 번호와 동일하다면 종료\n",
    "                break\n",
    "\n",
    "    return len(print_idx_lst) # 종료 후 인쇄 고유번호가 순서대로 저장된 리스트 길이가 내가 요청한 문서의 순번이 됨\n",
    "\n",
    "solution(priorities, location)\n",
    "\n",
    "# 테스트 20개 중 3개의 런타임 에러 발생"
   ]
  },
  {
   "cell_type": "code",
   "execution_count": 15,
   "metadata": {},
   "outputs": [
    {
     "data": {
      "text/plain": [
       "1"
      ]
     },
     "execution_count": 15,
     "metadata": {},
     "output_type": "execute_result"
    }
   ],
   "source": [
    "# 시도 2.\n",
    "priorities = [2, 1, 3, 2]\n",
    "location = 2\n",
    "# priorities = [1, 1, 9, 1, 1, 1]\n",
    "# location = 0\n",
    "def solution(priorities, location):\n",
    "    cnt = 0 # 조건 맞춰 들어온 인쇄목록 개수\n",
    "    idx = [x for x in range(len(priorities))] # 인쇄 문서 고유번호 저장\n",
    "    \n",
    "    while priorities :\n",
    "        tmp_priority = priorities.pop(0) # 인쇄목록 제일 앞 원소 추출\n",
    "        tmp_idx = idx.pop(0) # 인쇄목록 제일 앞 원소의 고유번호 추출\n",
    "\n",
    "        if priorities and tmp_priority < max(priorities) : # 뒤에 우선순위가 높은 것이 남아있다면 (앞에 항이 있어야 런타임 에러가 발생하지 않음,,,)\n",
    "            priorities.append(tmp_priority) # 추출한 원소 다시 인쇄목록에 넣기\n",
    "            idx.append(tmp_idx) # 추출한 원소의 고유번호 다시 인쇄목록에 넣기\n",
    "        else : # 해당 문서의 우선순위가 가장 높거나 같다면\n",
    "            cnt += 1 # 인쇄 목록 숫자 세기\n",
    "            if tmp_idx == location : # 저장된 고유번호가 내가 요청한 문서 번호와 동일하다면 종료\n",
    "                break\n",
    "\n",
    "    return cnt\n",
    "solution(priorities, location)"
   ]
  },
  {
   "cell_type": "markdown",
   "metadata": {},
   "source": [
    "### 3. 다리를 지나는 트럭 - Lv2\n",
    "트럭 여러 대가 강을 가로지르는 일차선 다리를 정해진 순으로 건너려 합니다. 모든 트럭이 다리를 건너려면 최소 몇 초가 걸리는지 알아내야 합니다. 다리에는 트럭이 최대 bridge_length대 올라갈 수 있으며, 다리는 weight 이하까지의 무게를 견딜 수 있습니다. 단, 다리에 완전히 오르지 않은 트럭의 무게는 무시합니다.\n",
    "\n",
    "예를 들어, 트럭 2대가 올라갈 수 있고 무게를 10kg까지 견디는 다리가 있습니다. 무게가 [7, 4, 5, 6]kg인 트럭이 순서대로 최단 시간 안에 다리를 건너려면 다음과 같이 건너야 합니다.  \n",
    "![programmers_stackque_no3](./programmers_stackque_no3.png)\n",
    "따라서, 모든 트럭이 다리를 지나려면 최소 8초가 걸립니다.\n",
    "\n",
    "solution 함수의 매개변수로 다리에 올라갈 수 있는 트럭 수 bridge_length, 다리가 견딜 수 있는 무게 weight, 트럭 별 무게 truck_weights가 주어집니다. 이때 모든 트럭이 다리를 건너려면 최소 몇 초가 걸리는지 return 하도록 solution 함수를 완성하세요.\n",
    "\n",
    "<제한 사항>  \n",
    "bridge_length는 1 이상 10,000 이하입니다.  \n",
    "weight는 1 이상 10,000 이하입니다.  \n",
    "truck_weights의 길이는 1 이상 10,000 이하입니다.  \n",
    "모든 트럭의 무게는 1 이상 weight 이하입니다.   \n",
    "  \n",
    "<입력 예시>  \n",
    "2         : bridge_length   \n",
    "10        : weight  \n",
    "[7,4,5,6] : truck_weights\n",
    "\n",
    "<출력 예시>  \n",
    "8  \n",
    "  \n",
    "<입력 예시>  \n",
    "100        : bridge_length   \n",
    "100        : weight  \n",
    "[10]       : truck_weights\n",
    "\n",
    "<출력 예시>  \n",
    "101  \n",
    "    \n",
    "<입력 예시>  \n",
    "100                             : bridge_length   \n",
    "100                             : weight  \n",
    "[10,10,10,10,10,10,10,10,10,10] : truck_weights\n",
    "\n",
    "<출력 예시>  \n",
    "110  \n",
    "  "
   ]
  },
  {
   "cell_type": "code",
   "execution_count": 53,
   "metadata": {},
   "outputs": [
    {
     "data": {
      "text/plain": [
       "110"
      ]
     },
     "execution_count": 53,
     "metadata": {},
     "output_type": "execute_result"
    }
   ],
   "source": [
    "# bridge_length = 2\n",
    "# weight = 10\n",
    "# truck_weights = [7, 4, 5, 6]\n",
    "# bridge_length = 100\n",
    "# weight = 100\n",
    "# truck_weights = [10]\n",
    "bridge_length = 100\n",
    "weight = 100\n",
    "truck_weights = [10,10,10,10,10,10,10,10,10,10] \n",
    "\n",
    "from collections import deque\n",
    "def solution(bridge_length, weight, truck_weights):\n",
    "    time = 0 # 총 시간 측정\n",
    "    truck_weights = deque(truck_weights) # 큐 사용을 위한 deque함수 적용\n",
    "    total_len = len(truck_weights) # 전체 트럭 수\n",
    "    total_weight = 0 # 다리 위에 있는 트럭의 총 중량\n",
    "    passing = deque([]) # 지나가는 트럭 정보\n",
    "    passing_time = deque([]) # 지나가는 트럭의 남은 시간 정보\n",
    "    passed = [] #지나간 트럭 정보\n",
    "\n",
    "    while  True :\n",
    "        time += 1 # 매초 진행 시 +1\n",
    "\n",
    "        if passing :# 지나가는 버스가 있다면\n",
    "            for i in range(len(passing)) : # 모든 지나가는 버스에 대해\n",
    "                passing[i][1] -= 1 # 남은 이동시간에서 1 빼주기\n",
    "\n",
    "            if passing[0][1] == 0 : # 만약 제일 앞에 있는 버스가 도착했다면\n",
    "                passed_val = passing.popleft() \n",
    "                passed.append(passed_val) # 지나가는 버스 큐에서 제거\n",
    "                total_weight -= passed_val[0] # 다리 위 트럭 총 중량 빼기\n",
    "\n",
    "                if len(passed) == total_len : # 모든 버스가 지나가면 break\n",
    "                    break\n",
    "\n",
    "            if len(truck_weights) > 0: # 남아있는 버스가 있다면\n",
    "                if total_weight + truck_weights[0] <= weight : # 다리 위 트럭 총 중량이 다리가 버틸 수 있는 중량보다 적다면 트럭 추가\n",
    "\n",
    "                    weight_val = truck_weights.popleft()\n",
    "                    passing.append([weight_val, bridge_length]) # 지나가는 버스 리스트에 추가\n",
    "                    total_weight += weight_val # 총 중량 증가\n",
    "\n",
    "        else : # 지나가는 버스가 없다면 추가\n",
    "            weight_val = truck_weights.popleft()\n",
    "\n",
    "            passing.append([weight_val, bridge_length]) # 지나가는 버스 리스트에 추가\n",
    "            total_weight += weight_val # 총 중량 증가\n",
    "    \n",
    "    \n",
    "    return time\n",
    "\n",
    "solution(bridge_length, weight, truck_weights)"
   ]
  },
  {
   "cell_type": "markdown",
   "metadata": {},
   "source": [
    "### 4. 주식가격 - Lv2\n",
    "초 단위로 기록된 주식가격이 담긴 배열 prices가 매개변수로 주어질 때, 가격이 떨어지지 않은 기간은 몇 초인지를 return 하도록 solution 함수를 완성하세요.\n",
    "  \n",
    "<제한 사항>  \n",
    "prices의 각 가격은 1 이상 10,000 이하인 자연수입니다.  \n",
    "prices의 길이는 2 이상 100,000 이하입니다.   \n",
    "  \n",
    "<입력 예시>  \n",
    "[1,2,3,2,3] : prices\n",
    "\n",
    "<출력 예시>  \n",
    "[4,3,1,1,0]  \n",
    "  \n",
    "<입출력 예 설명>  \n",
    "1초 시점의 ₩1은 끝까지 가격이 떨어지지 않았습니다.  \n",
    "2초 시점의 ₩2은 끝까지 가격이 떨어지지 않았습니다.  \n",
    "3초 시점의 ₩3은 1초뒤에 가격이 떨어집니다. 따라서 1초간 가격이 떨어지지 않은 것으로 봅니다.  \n",
    "4초 시점의 ₩2은 1초간 가격이 떨어지지 않았습니다.  \n",
    "5초 시점의 ₩3은 0초간 가격이 떨어지지 않았습니다.  \n",
    "  "
   ]
  },
  {
   "cell_type": "code",
   "execution_count": 62,
   "metadata": {},
   "outputs": [
    {
     "data": {
      "text/plain": [
       "[4, 3, 1, 1, 0]"
      ]
     },
     "execution_count": 62,
     "metadata": {},
     "output_type": "execute_result"
    }
   ],
   "source": [
    "prices = [1,2,3,2,3]\n",
    "def solution(prices):\n",
    "    answer = []\n",
    "    for i in range(len(prices)) :\n",
    "        time = 0 # 각 초단위 주식가격이 떨어지지 않은 기간 계산\n",
    "        for j in range(i+1,len(prices)) : # 첫 원소부터 for 루프\n",
    "            if prices[i] <= prices[j] : # 만약에 뒤 원소가 더 크거나 같으면 가격이 떨어지지 않은 것이므로 시간초 +1\n",
    "                time += 1 \n",
    "            else :\n",
    "                time +=1 # 바로 다음초에 가격이 떨어져도 1초는 유지한 것이므로 시간초 +1\n",
    "                break\n",
    "        if i == len(prices) : # 마지막 주식가격의 경우 다음 값이 없어 시간 1초 빼야함(입출력 예 설명 5초 시점 확인)\n",
    "            answer.append(time-1)\n",
    "        else :\n",
    "            answer.append(time) # 떨어지지 않은 시간초 리스트 저장\n",
    "    return answer\n",
    "solution(prices)"
   ]
  },
  {
   "cell_type": "code",
   "execution_count": null,
   "metadata": {},
   "outputs": [],
   "source": []
  }
 ],
 "metadata": {
  "kernelspec": {
   "display_name": "Python 3",
   "language": "python",
   "name": "python3"
  },
  "language_info": {
   "codemirror_mode": {
    "name": "ipython",
    "version": 3
   },
   "file_extension": ".py",
   "mimetype": "text/x-python",
   "name": "python",
   "nbconvert_exporter": "python",
   "pygments_lexer": "ipython3",
   "version": "3.7.3"
  }
 },
 "nbformat": 4,
 "nbformat_minor": 2
}
