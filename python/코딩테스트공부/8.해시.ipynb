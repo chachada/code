{
 "cells": [
  {
   "cell_type": "code",
   "execution_count": null,
   "metadata": {},
   "outputs": [],
   "source": [
    "# 참고\n",
    "# https://velog.io/@hanif/%EC%9E%90%EB%A3%8C%EA%B5%AC%EC%A1%B0-%ED%95%B4%EC%8B%9C"
   ]
  },
  {
   "cell_type": "markdown",
   "metadata": {},
   "source": [
    "# 8. 해시\n",
    "해시에는 크게 해시(hash), 해시 함수(hash function), 해상(hashing), 해시 테이블(hash table)  \n",
    "  \n",
    "1) 해시  \n",
    "해시는 데이터를 다루는 기법 중의 하나로, 검색과 저장을 아주 빠르게하는 자료구조이다.  \n",
    "데이터를 저장할 때 Key-Value형태로 데이터가 존재하고, Key값이 배열의 인덱스로 저장되기 때문에 검색과 저장이 빠르게 일어나게 된다.  \n",
    "\n",
    "2) 해시 함수(hash function), 해상(hashing)  \n",
    "해시 함수는 Key값을 고정된 길이의 hash로 변환하는 역할을 한다.  \n",
    "해시 함수에서 Key값을 hash로 변환하는 과정을 해싱(hashing)이라고 한다.  \n",
    "해시 함수에서는 Key값을 해싱 과정을 통해 해시 값(hash value) 또는 해시코드(hash code)으로 변경하며, 이 해시 값이 저장 위치가 된다고 생각하면 된다.  \n",
    "서로 다른 키(key)가 같은 해시(hash)가 되는 경우를 해시 충돌(Hash Collision)이라고 하는데, 해시 충돌을 일으키는 확률을 최대한 줄이는 함수를 만드는 것이 중요하다.  \n",
    "  \n",
    "3) 해시 테이블(hash table)  \n",
    "해시 테이블은 연관 배열구조를 이용하여 데이터를 Key와 Value로 저장하는 자료구조이다.\n",
    "해시 테이블은 해시 함수를 사용하여 색인(index)을 버킷(bucket)이나 슬롯(slot)의 배열로 계산한다.  \n",
    "※ 연관 배열은 자료구조의 하나로, 키 하나와 값 하나가 연관되어 있으며 키를 통해 연관되는 값을 얻을 수 있다."
   ]
  },
  {
   "cell_type": "markdown",
   "metadata": {},
   "source": [
    "![hash_explain_1](./hash_explain_1.png)\n",
    "이렇게 하나의 키 값이 존재할 때, 해시 함수를 통해서 데이터를 키값으로 바꾸어 버킷에 저장한다."
   ]
  },
  {
   "cell_type": "markdown",
   "metadata": {},
   "source": [
    "장점  \n",
    "1) 중복 제거 가능  \n",
    "2) 데이터 캐싱, 보안에 사용  \n",
    "3) 배열의 인덱스로 접근해 삽입, 삭제 등의 연산 빠름    \n",
    "  \n",
    "단점  \n",
    "1) 공간복잡도 증가  \n",
    "2) 충돌발생 가능  \n",
    "3) 순서가 있는 배열에는 어울리지 않음"
   ]
  },
  {
   "cell_type": "code",
   "execution_count": 1,
   "metadata": {},
   "outputs": [],
   "source": [
    "# 참고\n",
    "# https://yunaaaas.tistory.com/46"
   ]
  },
  {
   "cell_type": "markdown",
   "metadata": {},
   "source": [
    "해시 사용 시기  \n",
    "1) 리스트 사용이 어려울 때 (숫자 인덱스가 아닌 문자열/튜플을 사용할 때는 딕셔너리 사용이 좋음)  \n",
    "2) 빠른 접근/ 탐색 필요 시(딕셔너리의 시간복잡도는 대부분 O(1))  \n",
    "3) 집계 필요 시 (원소 개수 세는 문제에서 collections의 Counter 클래스)"
   ]
  },
  {
   "cell_type": "code",
   "execution_count": 2,
   "metadata": {},
   "outputs": [
    {
     "data": {
      "text/plain": [
       "{'Anna': 180}"
      ]
     },
     "execution_count": 2,
     "metadata": {},
     "output_type": "execute_result"
    }
   ],
   "source": [
    "# dictionary 예제\n",
    "# del 이용하기 - 키가 있는 경우\n",
    "dict_1= {'김철수': 300, 'Anna': 180}\n",
    "del dict_1['김철수'] # 삭제방법 1\n",
    "\n",
    "dict_1 #{'Anna': 180}"
   ]
  },
  {
   "cell_type": "code",
   "execution_count": 3,
   "metadata": {},
   "outputs": [
    {
     "data": {
      "text/plain": [
       "300"
      ]
     },
     "execution_count": 3,
     "metadata": {},
     "output_type": "execute_result"
    }
   ],
   "source": [
    "# pop 이용하기 - 키가 있는 경우 대응하는 value 리턴\n",
    "# pop(key[,default]) :  pop메소드는 key 값에 해당하는 value를 리턴합니다.\n",
    "# key가 없다면 두번째 파라미터인 default를 리턴합니다.\n",
    "my_dict = {'김철수': 300, 'Anna': 180}\n",
    "my_dict.pop('김철수', 180) # 300"
   ]
  },
  {
   "cell_type": "code",
   "execution_count": 4,
   "metadata": {},
   "outputs": [
    {
     "name": "stdout",
     "output_type": "stream",
     "text": [
      "김철수 300\n",
      "Anna 180\n"
     ]
    }
   ],
   "source": [
    "# key-value 동시 순회\n",
    "dict = {'김철수': 300, 'Anna': 180}\n",
    "for key, value in dict.items():\n",
    "    print(key, value)"
   ]
  },
  {
   "cell_type": "code",
   "execution_count": null,
   "metadata": {},
   "outputs": [],
   "source": []
  },
  {
   "cell_type": "markdown",
   "metadata": {},
   "source": [
    "## 프로그래머스_코딩테스트 연습 - 해시\n",
    "https://programmers.co.kr/learn/courses/30/parts/12077"
   ]
  },
  {
   "cell_type": "markdown",
   "metadata": {},
   "source": [
    "### 1. 완주하지 못한 선수 - Lv1\n",
    "수많은 마라톤 선수들이 마라톤에 참여하였습니다. 단 한 명의 선수를 제외하고는 모든 선수가 마라톤을 완주하였습니다.\n",
    "\n",
    "마라톤에 참여한 선수들의 이름이 담긴 배열 participant와 완주한 선수들의 이름이 담긴 배열 completion이 주어질 때, 완주하지 못한 선수의 이름을 return 하도록 solution 함수를 작성해주세요.  \n",
    "  \n",
    "<제한 사항>  \n",
    "마라톤 경기에 참여한 선수의 수는 1명 이상 100,000명 이하입니다.  \n",
    "completion의 길이는 participant의 길이보다 1 작습니다.  \n",
    "참가자의 이름은 1개 이상 20개 이하의 알파벳 소문자로 이루어져 있습니다.  \n",
    "참가자 중에는 동명이인이 있을 수 있습니다.  \n",
    "  \n",
    "<입력 예시>  \n",
    "[\"leo\", \"kiki\", \"eden\"]  : participant  \n",
    "[\"eden\", \"kiki\"]         : completion  \n",
    "    \n",
    "<출력 예시>  \n",
    "\"leo\""
   ]
  },
  {
   "cell_type": "code",
   "execution_count": 25,
   "metadata": {},
   "outputs": [
    {
     "data": {
      "text/plain": [
       "'leo'"
      ]
     },
     "execution_count": 25,
     "metadata": {},
     "output_type": "execute_result"
    }
   ],
   "source": [
    "participant = [\"leo\", \"kiki\", \"eden\"]\n",
    "completion = [\"eden\", \"kiki\"]\n",
    "\n",
    "from collections import Counter\n",
    "def solution(participant, completion) : \n",
    "    participant_counter=Counter(participant)\n",
    "    completion_counter=Counter(completion)\n",
    "    a=participant_counter-completion_counter\n",
    "    b=list(a)\n",
    "    return b[0]\n",
    "\n",
    "solution(participant, completion)"
   ]
  },
  {
   "cell_type": "markdown",
   "metadata": {},
   "source": [
    "### 2. 전화번호 목록\n",
    "전화번호부에 적힌 전화번호 중, 한 번호가 다른 번호의 접두어인 경우가 있는지 확인하려 합니다.\n",
    "전화번호가 다음과 같을 경우, 구조대 전화번호는 영석이의 전화번호의 접두사입니다.\n",
    "\n",
    "구조대 : 119\n",
    "박준영 : 97 674 223\n",
    "지영석 : 11 9552 4421\n",
    "전화번호부에 적힌 전화번호를 담은 배열 phone_book 이 solution 함수의 매개변수로 주어질 때, 어떤 번호가 다른 번호의 접두어인 경우가 있으면 false를 그렇지 않으면 true를 return 하도록 solution 함수를 작성해주세요.  \n",
    "  \n",
    "<제한 사항>  \n",
    "phone_book의 길이는 1 이상 1,000,000 이하입니다.  \n",
    "각 전화번호의 길이는 1 이상 20 이하입니다.  \n",
    "같은 전화번호가 중복해서 들어있지 않습니다.  \n",
    "  \n",
    "<입력 예시>  \n",
    "[\"119\", \"97674223\", \"1195524421\"]  : phone_book   \n",
    "    \n",
    "<출력 예시>  \n",
    "false  \n",
    "  \n",
    "<입력 예시>  \n",
    "[\"123\",\"456\",\"789\"]  : phone_book   \n",
    "    \n",
    "<출력 예시>  \n",
    "true"
   ]
  },
  {
   "cell_type": "code",
   "execution_count": 45,
   "metadata": {},
   "outputs": [
    {
     "data": {
      "text/plain": [
       "False"
      ]
     },
     "execution_count": 45,
     "metadata": {},
     "output_type": "execute_result"
    }
   ],
   "source": [
    "# phone_book = [\"119\", \"97674223\", \"1195524421\"]\n",
    "#phone_book = [\"123\",\"456\",\"789\"]\n",
    "phone_book = [\"12\",\"123\",\"1235\",\"567\",\"88\"]\n",
    "\n",
    "def solution(phone_book):\n",
    "    \n",
    "    # hash map 만들기\n",
    "    hash_map = {}\n",
    "    for phone_num in phone_book :\n",
    "        hash_map[phone_num] = 1\n",
    "    \n",
    "    # 접두어가 hash map에 존재하는지 확인\n",
    "    for phone_num in hash_map.keys():\n",
    "        word = \"\" # 접두어\n",
    "        \n",
    "        for each_num in phone_num :\n",
    "            word += each_num # 접두어에 전화번호 앞자리 하나씩 추가해가며\n",
    "            \n",
    "            if word in hash_map and word != phone_num :  \n",
    "                # 접두어로 시작하는 번호 확인\n",
    "                # 동일번호 없다고 했으므로 접두어와 전화번호가 같아지는 경우도 제외\n",
    "                \n",
    "                return False\n",
    "    \n",
    "    return True\n",
    "    \n",
    "\n",
    "solution(phone_book)"
   ]
  },
  {
   "cell_type": "markdown",
   "metadata": {},
   "source": [
    "### 3. 위장\n",
    "스파이들은 매일 다른 옷을 조합하여 입어 자신을 위장합니다.\n",
    "\n",
    "예를 들어 스파이가 가진 옷이 아래와 같고 오늘 스파이가 동그란 안경, 긴 코트, 파란색 티셔츠를 입었다면 다음날은 청바지를 추가로 입거나 동그란 안경 대신 검정 선글라스를 착용하거나 해야 합니다.  \n",
    "  \n",
    "얼굴 : 동그란 안경, 검정 선글라스  \n",
    "상위 : 파란색 티셔츠  \n",
    "하의 : 청바지  \n",
    "겉옷 : 긴 코트  \n",
    "    \n",
    "스파이가 가진 의상들이 담긴 2차원 배열 clothes가 주어질 때 서로 다른 옷의 조합의 수를 return 하도록 solution 함수를 작성해주세요.\n",
    "  \n",
    "<제한 사항>  \n",
    "clothes의 각 행은 [의상의 이름, 의상의 종류]로 이루어져 있습니다.  \n",
    "스파이가 가진 의상의 수는 1개 이상 30개 이하입니다.  \n",
    "같은 이름을 가진 의상은 존재하지 않습니다.  \n",
    "clothes의 모든 원소는 문자열로 이루어져 있습니다.  \n",
    "모든 문자열의 길이는 1 이상 20 이하인 자연수이고 알파벳 소문자 또는 '_' 로만 이루어져 있습니다.  \n",
    "스파이는 하루에 최소 한 개의 의상은 입습니다.  \n",
    "  \n",
    "<입력 예시>  \n",
    "[[\"yellowhat\", \"headgear\"], [\"bluesunglasses\", \"eyewear\"], [\"green_turban\", \"headgear\"]]  : clothes   \n",
    "    \n",
    "<출력 예시>  \n",
    "5  \n",
    "  \n",
    "<입력 예시>  \n",
    "[[\"crowmask\", \"face\"], [\"bluesunglasses\", \"face\"], [\"smoky_makeup\", \"face\"]]  : clothes  \n",
    "    \n",
    "<출력 예시>  \n",
    "3"
   ]
  },
  {
   "cell_type": "code",
   "execution_count": 19,
   "metadata": {},
   "outputs": [
    {
     "data": {
      "text/plain": [
       "3"
      ]
     },
     "execution_count": 19,
     "metadata": {},
     "output_type": "execute_result"
    }
   ],
   "source": [
    "#clothes = [[\"yellowhat\", \"headgear\"], [\"bluesunglasses\", \"eyewear\"], [\"green_turban\", \"headgear\"]]\n",
    "clothes = [[\"crowmask\", \"face\"], [\"bluesunglasses\", \"face\"], [\"smoky_makeup\", \"face\"]]\n",
    "def solution(clothes):\n",
    "    answer = 1\n",
    "    hash_map = {}\n",
    "\n",
    "    # clothes type 별 개수를 저장하는 dictionary\n",
    "    for clothes_name, clothes_type in clothes :\n",
    "        hash_map[clothes_type] = hash_map.get(clothes_type,0) + 1 # \n",
    "    # dict.get(b, 0) 함수는 'B'라는 Key에 해당하는 Value가 있으면 가져오고\n",
    "    # 아닐 경우 0을 Default로 지정하여 사용하겠다는 의미의 함수이다.\n",
    "\n",
    "    # 조합 수 계산(type별 옷 종류 + 1을 곱해나가면 됨 - type 경우의 수 : 안 입기, 옷1, 옷2, ....)\n",
    "    for clothes_type in hash_map.keys() :\n",
    "        answer *= (hash_map[clothes_type] + 1)\n",
    "    \n",
    "    answer -= 1 # 옷을 안 입은 경우 제외\n",
    "\n",
    "    return answer\n",
    "\n",
    "solution(clothes)"
   ]
  },
  {
   "cell_type": "markdown",
   "metadata": {},
   "source": [
    "## 4. 베스트앨범\n",
    "스트리밍 사이트에서 장르 별로 가장 많이 재생된 노래를 두 개씩 모아 베스트 앨범을 출시하려 합니다. 노래는 고유 번호로 구분하며, 노래를 수록하는 기준은 다음과 같습니다.\n",
    "\n",
    "속한 노래가 많이 재생된 장르를 먼저 수록합니다.\n",
    "장르 내에서 많이 재생된 노래를 먼저 수록합니다.\n",
    "장르 내에서 재생 횟수가 같은 노래 중에서는 고유 번호가 낮은 노래를 먼저 수록합니다.\n",
    "노래의 장르를 나타내는 문자열 배열 genres와 노래별 재생 횟수를 나타내는 정수 배열 plays가 주어질 때, 베스트 앨범에 들어갈 노래의 고유 번호를 순서대로 return 하도록 solution 함수를 완성하세요.  \n",
    "  \n",
    "<제한 사항>  \n",
    "genres[i]는 고유번호가 i인 노래의 장르입니다.  \n",
    "plays[i]는 고유번호가 i인 노래가 재생된 횟수입니다.  \n",
    "genres와 plays의 길이는 같으며, 이는 1 이상 10,000 이하입니다.  \n",
    "장르 종류는 100개 미만입니다.  \n",
    "장르에 속한 곡이 하나라면, 하나의 곡만 선택합니다.  \n",
    "모든 장르는 재생된 횟수가 다릅니다.  \n",
    "  \n",
    "<입력 예시>  \n",
    "[\"classic\", \"pop\", \"classic\", \"classic\", \"pop\"]  : genres     \n",
    "[500, 600, 150, 800, 2500] : plays\n",
    "    \n",
    "<출력 예시>  \n",
    "[4, 1, 3, 0]  "
   ]
  },
  {
   "cell_type": "code",
   "execution_count": 44,
   "metadata": {},
   "outputs": [
    {
     "data": {
      "text/plain": [
       "[4, 1, 3, 0]"
      ]
     },
     "execution_count": 44,
     "metadata": {},
     "output_type": "execute_result"
    }
   ],
   "source": [
    "genres = [\"classic\", \"pop\", \"classic\", \"classic\", \"pop\"]\n",
    "plays = [500, 600, 150, 800, 2500]\n",
    "\n",
    "def solution(genres, plays):\n",
    "    answer = []\n",
    "    \n",
    "    hash_map1 = {genre:[] for genre in set(genres)} # 장르별 재생횟수, 고유번호\n",
    "    hash_map2 = {} # 장르별 총 재생 횟수\n",
    "    \n",
    "    for idx, (genre, play)  in enumerate(zip(genres, plays)) :\n",
    "        hash_map1[genre].append([play, idx])\n",
    "    \n",
    "        hash_map2[genre] = hash_map2.get(genre,0) + play # 장르별 총 재생횟수 합계 저장\n",
    "\n",
    "\n",
    "    for (genre, total_play) in sorted(hash_map2.items(), key=lambda x:x[1], reverse=True) : # 장르별 가장 많은 재생횟수 순 정렬\n",
    "        for (each_play, idx) in sorted(hash_map1[genre], key = lambda x : x[0], reverse = True)[:2] : # 장르에서 가장 많은 재생횟수 곡 순 정렬:\n",
    "            answer.append(idx)\n",
    "    \n",
    "    \n",
    "    return answer\n",
    "\n",
    "solution(genres, plays)"
   ]
  },
  {
   "cell_type": "code",
   "execution_count": null,
   "metadata": {},
   "outputs": [],
   "source": []
  }
 ],
 "metadata": {
  "kernelspec": {
   "display_name": "Python 3",
   "language": "python",
   "name": "python3"
  },
  "language_info": {
   "codemirror_mode": {
    "name": "ipython",
    "version": 3
   },
   "file_extension": ".py",
   "mimetype": "text/x-python",
   "name": "python",
   "nbconvert_exporter": "python",
   "pygments_lexer": "ipython3",
   "version": "3.7.3"
  }
 },
 "nbformat": 4,
 "nbformat_minor": 2
}
