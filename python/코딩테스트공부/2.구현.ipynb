{
 "cells": [
  {
   "cell_type": "code",
   "execution_count": 1,
   "metadata": {},
   "outputs": [],
   "source": [
    "# 참고\n",
    "# 나동빈, 『이것이 코딩 테스트다 with 파이썬』, 한빛미디어-2021.07.12, 104-121"
   ]
  },
  {
   "cell_type": "markdown",
   "metadata": {},
   "source": [
    "# 2. 구현\n",
    "머리속에 있는 알고리즘을 소스코드로 바꾸는 능력\n",
    "\n",
    "- 메모리, 채점 환경 고려 필수"
   ]
  },
  {
   "cell_type": "markdown",
   "metadata": {},
   "source": [
    "## 예제 4-1 상하좌우\n",
    "여행가 A는 NxN 크기의 정사각형 공간 위에 서 있다. 이 공간은 1 x 1 크기의 정사각형으로 나누어져 있다. 가장 왼쪽 위 좌표는 (1,1)이며 가장 오른쪽 아래 좌표는 (N, N)에 해당한다. 여행가 A는 상, 하, 좌, 우 방향으로 이동할 수 있으며, 시작 좌표는 항상 (1,1)이다. 우리 앞에는 여행가 A가 이동할 계획이 적힌 계획서가 놓여있다. 계획서에는 하나의 줄에 띄어쓰기를 기준으로 하여 L,R, U, D 중 하나의 문자가 반복적으로 적혀 있다. 각 문자의 의미는 다음과 같다.  \n",
    "L : 왼쪽으로 한 칸 이동  \n",
    "R : 오른쪽으로 한 칸 이동  \n",
    "U : 위로 한 칸 이동  \n",
    "D : 아래로 한 칸 이동  \n",
    "이 때 여행가 A가 N x N 크기의 정사각형 공간을 벗어나는 움직임은 무시된다. 예를 들어 (1,1)의 위치에서 L혹은 U를 만나면 무시된다.  \n",
    "다음은 N = 5인 지도와 계획서이다.  \n",
    "계획서의 지도 : R R R U D D  \n",
    "이 경우 최종적으로 (3,4)에 도달한다. 계획서가 주어졌을 때 여행가 A가 최종적으로 도착할 지점의 좌표를 출력하는 프로그램을 작성하시오.  \n",
    "  \n",
    "<입력 예시>  \n",
    "5  \n",
    "R R R U D D  \n",
    "<출력 예시>  \n",
    "3 4  "
   ]
  },
  {
   "cell_type": "code",
   "execution_count": 4,
   "metadata": {},
   "outputs": [
    {
     "name": "stdout",
     "output_type": "stream",
     "text": [
      "5\n",
      "R R R U D D\n",
      "3 4\n"
     ]
    }
   ],
   "source": [
    "n =  int(input())\n",
    "plans = input().split() # 계획서\n",
    "\n",
    "x,y = 1,1 # 시작지점\n",
    "dx = [0,0,-1,1] # L R U D\n",
    "dy = [-1,1,0,0] # L R U D\n",
    "move = ['L', 'R', 'U', 'D']\n",
    "\n",
    "for plan in plans :\n",
    "    # 계획 이행 시 새로운 좌표 확인\n",
    "    for i in range(len(move)):\n",
    "        if plan == move[i]:\n",
    "            nx = x + dx[i]\n",
    "            ny = y + dy[i]\n",
    "            break\n",
    "    # 새로운 좌표가 공간에서 벗어났으면 다음 계획 진행\n",
    "    if nx < 1 or ny <1 or nx > n or ny > n :\n",
    "        continue\n",
    "    # 잘 이동했다면 위치 변경\n",
    "    x = nx\n",
    "    y = ny    \n",
    "print(x,y)"
   ]
  },
  {
   "cell_type": "markdown",
   "metadata": {},
   "source": [
    "## 예제 4-2 시각\n",
    "정수 N이 입력되면 00시 00분 00초부터 N시 59분 59초까지의 모든 시각 중에서 3이 한라도 포함되는 모든 경우의 수를 구하는 프로그램을 작성하시오.  \n",
    "예를 들어 1을 입력햇을 때 다음은 3이 하나라도 포함되어 있으므로 세어야하는 시각이다.  \n",
    "00시 00분 03초  \n",
    "00시 13분 20초  \n",
    "반면에 다음은 3이 하나도 포함되어 있지 않으므로 세면 안 되는 시각이다.  \n",
    "00시 02분 55초  \n",
    "01시 27분 45초  \n",
    "  \n",
    "<입력 예시>  \n",
    "5  \n",
    "<출력 예시>  \n",
    "11475"
   ]
  },
  {
   "cell_type": "code",
   "execution_count": 5,
   "metadata": {},
   "outputs": [
    {
     "name": "stdout",
     "output_type": "stream",
     "text": [
      "5\n",
      "11475\n"
     ]
    }
   ],
   "source": [
    "n = int(input())\n",
    "\n",
    "ans = 0\n",
    "# 시간은 몇 개 되지 않으니 for루프 사용 + 문자열활용\n",
    "for i in range(n+1) :\n",
    "    for j in range(60) :\n",
    "        for k in range(60) :\n",
    "            if '3' in str(i) + str(j) + str(k) :\n",
    "                ans += 1\n",
    "print(ans)"
   ]
  },
  {
   "cell_type": "markdown",
   "metadata": {},
   "source": [
    "## 실전문제1. 왕실의 나이트\n",
    "행복 왕국의 왕실 정원은 체스판과 같은 8 x 8 좌표 평면이다. 왕실 정원의 특정한 한 칸에 나이트가 서 있다. 나이트는 매우 충성스러운 신하로서 매일 무슬을 연마한다.  \n",
    "나이트는 말을 타고 있기 때문에 이동을 할 때는 L자 형태로만 이동할 수 있으며 정원 밖으로는 나갈 수 없다. 나이트는 특정한 위치에서 다음과 같은 2가지 경우로 이동할 수 있다.  \n",
    "1. 수평으로 두 칸 이동한 뒤에 수직으로 한 칸 이동하기\n",
    "2. 수직으로 두 칸 이동한 뒤에 수평으로 한 칸 이동하기  \n",
    "\n",
    "이처럼 8 x 8 좌표 평면 상에서 나이트의 위치가 주어졌을 때 나이트가 이동할 수 있는 경우의 수를 출력하는 프로그램을 작성하시오. 이 때 왕실의 정원에서 행 위치를 표현할 때는 1부터 8로 표현하며, 열 위치를 표현할 때는 a부터 h로 표현한다.  \n",
    "예를 들어 만약 나이트가 a1에 있을 때 이동할 수 있는 경우의 수는 다음 2가지이다. a1의 위치는 좌표 평면에서 구석의 위치에 해당하며 나이트는 정원의 밖으로는 나갈 수 없기 때문이다.  \n",
    "\n",
    "1. 오른쪽으로 두 칸 이동 후 아래로 한 칸 이동하기(c2)\n",
    "2. 아래로 두 칸 이동 후 오른쪽으로 한 칸 이동하기(b3)  \n",
    "또 다른 예로 나이트가 c2에 위치해 있다면 나이트가 이동할 수 있는 경우의 수는 6가지이다.  \n",
    "  \n",
    "<입력 예시>  \n",
    "a1  \n",
    "<출력 예시>  \n",
    "2"
   ]
  },
  {
   "cell_type": "code",
   "execution_count": 13,
   "metadata": {},
   "outputs": [
    {
     "name": "stdout",
     "output_type": "stream",
     "text": [
      "a1\n",
      "2\n"
     ]
    }
   ],
   "source": [
    "start = input()\n",
    "row = int(start[1])\n",
    "# 열 위치(알파벳) 숫자 변경 ord함수 사용\n",
    "# ord : 하나의 문자를 인자로 받고 해당 문자에 해당하는 유니코드 정수를 반환합니다. (ex. ord('a') = 97)\n",
    "col = ord(start[0]) - 96\n",
    "\n",
    "ans = 0\n",
    "\n",
    "steps = [(-2,1), (-2,-1), (2,1), (2,-1), (-1,-2), (1,-2), (-1,2), (1,2)] #1번방법 4가지 + 2번방법 4가지\n",
    "\n",
    "# 시작 위치에서 움직일 수 있는 모든 경우 좌표 계산\n",
    "for step1,step2 in steps :\n",
    "    nrow = row + step1 \n",
    "    ncol = col + step2\n",
    "    \n",
    "    if nrow < 1 or nrow > 8 or ncol < 1 or ncol > 8 : # 말판 넘어가면 안 세기\n",
    "        continue\n",
    "    \n",
    "    ans += 1\n",
    "print(ans)"
   ]
  },
  {
   "cell_type": "markdown",
   "metadata": {},
   "source": [
    "## 실전문제2. 게임 개발\n",
    "현민이는 게임 캐릭터가 맵 안에서 움직이는 시스템을 개발 중이다. 캐릭터가 있는 장소는 1 x 1 크기의 정사각형으로 이뤄진 N x M 크기의 직사각형으로, 각각의 칸은 육지 또는 바다이다. 캐릭터는 동서남북 중 한 곳을 바라본다.  \n",
    "맵의 각 칸은 (A, B)로 나타낼 수 있고, A는 북쪽으로부터 떨어진 칸의 개수, B는 서쪽으로부터 떨어진 칸의 개수이다. 캐릭터는 상하좌우로 움직일 수 있고, 바다로 되어 있는 공간에는 갈 수 없다.  \n",
    "캐릭터의 움직임을 설정하기 위해 정해 놓은 메뉴얼은 이러하다.  \n",
    "1. 현재 위치에서 현재 방향을 기준으로 왼쪽방향(반시계 방향으로 90도 회전한 방향)부터 차례대로 갈 곳을 정한다.\n",
    "2. 캐릭터의 바로 왼쪽 방향에 아직 가보지 않은 칸이 존재한다면, 왼쪽 방향으로 회전한 다음 왼쪽으로 한 칸을 전진한다. 왼쪽 방향에 가보지 않은 칸이 없다면, 왼쪽 방향으로 회전만 수행하고 1단계로 돌아간다.\n",
    "3. 만약 네 방향 모두 이미 가본 칸이거나 바다로 되어 있는 칸인 경우에는, 바라보는 방향을 유지한 채로 한 칸 뒤로 가고 1단계로 돌아간다. 단, 이 때 뒤쪽 방향이 바다인 칸이라 뒤로 갈 수 없는 경우에는 움직임을 멈춘다.\n",
    "현민이는 위 과정을 반복적으로 수행하면서 캐릭터의 움직임에 이상이 있는지 테스트하려고 한다. 메뉴얼에 따라 캐릭터를 이동시킨 뒤에, 캐릭터가 방문한 칸의 수를 출력하는 프로그램을 만드시오.  \n",
    "  \n",
    "<입력 조건>  \n",
    "- 첫째 줄에 맵의 세로 크기 N과 가로 크기 M을 공백으로 구분하여 입력\n",
    "- 둘째 줄에 게임 캐릭터가 있는 칸의 좌표 (A,B)와 바라보는 방향 d가 각각 서로 공백으로 구분하여 주어진다. 방향 d값은 다음과 같다.  \n",
    "0 : 북 / 1 : 동 / 2 : 남 / 3 : 서  \n",
    "- 셋째 줄부터 맵이 육지인지 바다인지에 대한 정보가 주어진다. N개의 줄에 맵의 상태가 북쪽부터 남쪽 순서대로, 각 줄의 데이터는 서쪽부터 동쪽 순서대로 주어진다. 맵의 외곽은 항상 바다로 되어있다.  \n",
    "0 : 육지 / 1 : 바다  \n",
    "  \n",
    "<입력 예시>  \n",
    "4 4      _# 4x4 맵_  \n",
    "1 1 0    _# (1,1) 북쪽을 바라보고 있는 캐릭터_  \n",
    "1 1 1 1  \n",
    "1 0 0 1  \n",
    "1 1 0 1  \n",
    "1 1 1 1  "
   ]
  },
  {
   "cell_type": "code",
   "execution_count": 15,
   "metadata": {},
   "outputs": [
    {
     "name": "stdout",
     "output_type": "stream",
     "text": [
      "4 4 \n",
      "1 1 0\n",
      "1 1 1 1\n",
      "1 0 0 1\n",
      "1 1 0 1\n",
      "1 1 1 1\n",
      "3\n"
     ]
    }
   ],
   "source": [
    "n, m = map(int, input().split()) # 맵 크기 정보\n",
    "\n",
    "d = [[0]*m for _ in range(n)] # 방문기록 남는 맵 만들기\n",
    "\n",
    "x,y,direction = map(int, input().split()) # 현위치 + 방향 \n",
    "\n",
    "# 맵 정보\n",
    "arr = []\n",
    "for i in range(n) :\n",
    "    arr.append(list(map(int, input().split())))\n",
    "    \n",
    "# 방향 별 이동 정의 (북, 동, 남, 서)\n",
    "dx = [-1, 0, 1, 0]\n",
    "dx = [0, 1, 0 ,-1]\n",
    "\n",
    "\n",
    "# 왼쪽으로 회전\n",
    "def turn_left() :\n",
    "    global direction\n",
    "    direction -= 1\n",
    "    if direction == -1 :\n",
    "        direction = 3\n",
    "        \n",
    "ans = 1 # 시작 칸도 방문한 것이므로 1로 시작\n",
    "turn_time = 0 # 4방향 모두 갈 곳 없다면 멈추기\n",
    "\n",
    "while True :\n",
    "    # 2번 행동\n",
    "    turn_left()\n",
    "    nx = x + dx[direction]\n",
    "    ny = y + dx[direction]\n",
    "    \n",
    "    # 회전한 후 정면에 가보지 않은 칸이 존재하는 경우 이동\n",
    "    if d[nx][ny] == 0  and arr[nx][ny] == 0 : # 가보지 않은 곳이고 방문한 적이 없다면\n",
    "        d[nx][ny] = 1 # 방문기록 남기기\n",
    "        x = nx # 이동 위치 저장\n",
    "        y = ny # 이동 위치 저장\n",
    "        ans += 1\n",
    "        turn_time = 0\n",
    "        continue\n",
    "    else : # 갈 수 없는 곳이므로 회전 후 2번 행동 다시\n",
    "        turn_time += 1\n",
    "    \n",
    "    # 4 방향 모두 갈 수 없다면\n",
    "    if turn_time == 4 :\n",
    "        nx = x - dx[direction] # 제자리 돌아오기\n",
    "        ny = y - dy[direction] # 제자리 돌아오기\n",
    "        \n",
    "        if arr[nx][ny] == 0 : # 뒤로 갈 수 있다면 돌아가기\n",
    "            x = nx\n",
    "            y = ny\n",
    "        else : # 돌아갈 수 없다면\n",
    "            break\n",
    "        turn_time = 0\n",
    "print(ans)"
   ]
  },
  {
   "cell_type": "markdown",
   "metadata": {},
   "source": [
    "## 백준 연습문제\n",
    "구현 - 3개 문제  \n",
    "https://www.acmicpc.net/problemset?sort=ac_desc&algo=102"
   ]
  },
  {
   "cell_type": "markdown",
   "metadata": {},
   "source": [
    "### 1924. 2007년\n",
    "https://www.acmicpc.net/problem/1924  \n",
    "오늘은 2007년 1월 1일 월요일이다. 그렇다면 2007년 x월 y일은 무슨 요일일까? 이를 알아내는 프로그램을 작성하시오.  \n",
    "출력 : 첫째 줄에 x월 y일이 무슨 요일인지에 따라 SUN, MON, TUE, WED, THU, FRI, SAT중 하나를 출력한다.  \n",
    "    \n",
    "<입력 예시>  \n",
    "첫째 줄에 빈 칸을 사이에 두고 x(1 ≤ x ≤ 12)와 y(1 ≤ y ≤ 31)이 주어진다. 참고로 2007년에는 1, 3, 5, 7, 8, 10, 12월은 31일까지, 4, 6, 9, 11월은 30일까지, 2월은 28일까지 있다.    \n",
    "<출력 예시>  \n",
    "첫째 줄에 x월 y일이 무슨 요일인지에 따라 SUN, MON, TUE, WED, THU, FRI, SAT중 하나를 출력한다.  \n",
    "<입력 예시>  \n",
    "3 14  \n",
    "<출력 예시>  \n",
    "WED  \n",
    "<입력 예시>  \n",
    "9 2  \n",
    "<출력 예시>  \n",
    "SUN  "
   ]
  },
  {
   "cell_type": "code",
   "execution_count": 21,
   "metadata": {},
   "outputs": [
    {
     "name": "stdout",
     "output_type": "stream",
     "text": [
      "9 2\n",
      "SUN\n"
     ]
    }
   ],
   "source": [
    "# x월 y일 받아오기\n",
    "x,y = map(int, input().split())\n",
    "\n",
    "# 월별 일수 저장(1월의 경우 앞 개월이 없으므로 y일수만 더하도록 0 추가)\n",
    "days = [0, 31, 28, 31, 30, 31, 30, 31, 31, 30, 31, 30, 31]\n",
    "\n",
    "# 1월 1일로부터 x월 y일이 얼마나 지났는지 계산\n",
    "day_count = 0\n",
    "# x월 이전 일수 계산\n",
    "for i in range(x) :\n",
    "    day_count += days[i]\n",
    "\n",
    "# y일 추가\n",
    "day_count += y\n",
    "\n",
    "# 요일 계산(MON이 0)\n",
    "yoil = ['MON', 'TUE', 'WED', 'THU', 'FRI', 'SAT', 'SUN']\n",
    "\n",
    "# 일수 차이에 의한 요일 변화 계산\n",
    "yoil_idx = (day_count - 1)%7\n",
    "ans = yoil[yoil_idx]\n",
    "print(ans)"
   ]
  },
  {
   "cell_type": "markdown",
   "metadata": {},
   "source": [
    "### 10773. 제로\n",
    "https://www.acmicpc.net/problem/10773  \n",
    "나코더 기장 재민이는 동아리 회식을 준비하기 위해서 장부를 관리하는 중이다.\n",
    "\n",
    "재현이는 재민이를 도와서 돈을 관리하는 중인데, 애석하게도 항상 정신없는 재현이는 돈을 실수로 잘못 부르는 사고를 치기 일쑤였다.\n",
    "\n",
    "재현이는 잘못된 수를 부를 때마다 0을 외쳐서, 가장 최근에 재민이가 쓴 수를 지우게 시킨다.\n",
    "\n",
    "재민이는 이렇게 모든 수를 받아 적은 후 그 수의 합을 알고 싶어 한다. 재민이를 도와주자!\n",
    "  \n",
    "<입력 예시>  \n",
    "첫 번째 줄에 정수 K가 주어진다. (1 ≤ K ≤ 100,000)\n",
    "\n",
    "이후 K개의 줄에 정수가 1개씩 주어진다. 정수는 0에서 1,000,000 사이의 값을 가지며, 정수가 \"0\" 일 경우에는 가장 최근에 쓴 수를 지우고, 아닐 경우 해당 수를 쓴다.\n",
    "\n",
    "정수가 \"0\"일 경우에 지울 수 있는 수가 있음을 보장할 수 있다.   \n",
    "<출력 예시>  \n",
    "재민이가 최종적으로 적어 낸 수의 합을 출력한다. 최종적으로 적어낸 수의 합은 2^31-1보다 작거나 같은 정수이다.  \n",
    "<입력 예시>  \n",
    "4  \n",
    "3  \n",
    "0  \n",
    "4  \n",
    "0  \n",
    "<출력 예시>  \n",
    "0    \n",
    "<입력 예시>  \n",
    "10  \n",
    "1  \n",
    "3  \n",
    "5  \n",
    "4  \n",
    "0  \n",
    "0  \n",
    "7  \n",
    "0  \n",
    "0  \n",
    "6   \n",
    "<출력 예시>  \n",
    "7 "
   ]
  },
  {
   "cell_type": "code",
   "execution_count": 24,
   "metadata": {},
   "outputs": [
    {
     "name": "stdout",
     "output_type": "stream",
     "text": [
      "10\n",
      "1\n",
      "3\n",
      "5\n",
      "4\n",
      "0\n",
      "0\n",
      "7\n",
      "0\n",
      "0\n",
      "6\n",
      "7\n"
     ]
    }
   ],
   "source": [
    "# k 불러오기\n",
    "k = int(input())\n",
    "\n",
    "# 제대로 된 숫자가 저장되는 빈 list 생성\n",
    "lst = []\n",
    "\n",
    "# 숫자 입력받으며 0이면 가장 최근에 부른 값 삭제(pop활용)\n",
    "for i in range(k) :\n",
    "    new_num = int(input())\n",
    "    if new_num == 0 :\n",
    "        lst.pop()\n",
    "    else :\n",
    "        lst.append(new_num)\n",
    "print(sum(lst))"
   ]
  },
  {
   "cell_type": "markdown",
   "metadata": {},
   "source": [
    "### 2108. 통계\n",
    "https://www.acmicpc.net/problem/2108  \n",
    "수를 처리하는 것은 통계학에서 상당히 중요한 일이다. 통계학에서 N개의 수를 대표하는 기본 통계값에는 다음과 같은 것들이 있다. 단, N은 홀수라고 가정하자.  \n",
    "1. 산술평균 : N개의 수들의 합을 N으로 나눈 값\n",
    "2. 중앙값 : N개의 수들을 증가하는 순서로 나열했을 경우 그 중앙에 위치하는 값\n",
    "3. 최빈값 : N개의 수들 중 가장 많이 나타나는 값\n",
    "4. 범위 : N개의 수들 중 최댓값과 최솟값의 차이  \n",
    "N개의 수가 주어졌을 때, 네 가지 기본 통계값을 구하는 프로그램을 작성하시오.\n",
    "  \n",
    "<입력 예시>  \n",
    "첫째 줄에 수의 개수 N(1 ≤ N ≤ 500,000)이 주어진다. 단, N은 홀수이다. 그 다음 N개의 줄에는 정수들이 주어진다. 입력되는 정수의 절댓값은 4,000을 넘지 않는다.  \n",
    "<출력 예시>  \n",
    "첫째 줄에는 산술평균을 출력한다. 소수점 이하 첫째 자리에서 반올림한 값을 출력한다.  \n",
    "둘째 줄에는 중앙값을 출력한다.  \n",
    "셋째 줄에는 최빈값을 출력한다. 여러 개 있을 때에는 최빈값 중 두 번째로 작은 값을 출력한다.  \n",
    "넷째 줄에는 범위를 출력한다.  \n",
    "<입력 예시>  \n",
    "5  \n",
    "1  \n",
    "3  \n",
    "8  \n",
    "-2  \n",
    "2  \n",
    "<출력 예시>  \n",
    "2  \n",
    "2  \n",
    "1  \n",
    "10  \n",
    "<입력 예시>  \n",
    "1  \n",
    "4000  \n",
    "<출력 예시>  \n",
    "4000  \n",
    "4000  \n",
    "4000  \n",
    "0"
   ]
  },
  {
   "cell_type": "code",
   "execution_count": 42,
   "metadata": {},
   "outputs": [
    {
     "name": "stdout",
     "output_type": "stream",
     "text": [
      "5\n",
      "1\n",
      "3\n",
      "8\n",
      "-2\n",
      "2\n",
      "2\n",
      "2\n",
      "1\n",
      "10\n"
     ]
    }
   ],
   "source": [
    "from collections import Counter\n",
    "import math\n",
    "import sys\n",
    "# 수의 개수 n불러오기\n",
    "n = int(sys.stdin.readline())\n",
    "\n",
    "# 수 넣을 빈 list 생성\n",
    "lst = []\n",
    "\n",
    "for i in range(n):\n",
    "    lst.append(int(sys.stdin.readline()))\n",
    "    \n",
    "lst.sort() # 중위수 산출을 위한 정렬\n",
    "\n",
    "mean = round(sum(lst) / len(lst),0) # 평균\n",
    "\n",
    "median = lst[math.ceil(len(lst)/2)-1] # 중위수\n",
    "\n",
    "if len(Counter(lst).most_common()) > 1 and Counter(lst).most_common()[0][1] == Counter(lst).most_common()[1][1] :\n",
    "    mode = Counter(lst).most_common()[1][0]# 최빈값\n",
    "else :\n",
    "    mode = Counter(lst).most_common()[0][0]\n",
    "\n",
    "lst_range = max(lst) - min(lst) # 범위\n",
    "\n",
    "print(int(mean), int(median), int(mode), int(lst_range), sep = \"\\n\")"
   ]
  },
  {
   "cell_type": "code",
   "execution_count": null,
   "metadata": {},
   "outputs": [],
   "source": []
  }
 ],
 "metadata": {
  "kernelspec": {
   "display_name": "Python 3",
   "language": "python",
   "name": "python3"
  },
  "language_info": {
   "codemirror_mode": {
    "name": "ipython",
    "version": 3
   },
   "file_extension": ".py",
   "mimetype": "text/x-python",
   "name": "python",
   "nbconvert_exporter": "python",
   "pygments_lexer": "ipython3",
   "version": "3.7.3"
  }
 },
 "nbformat": 4,
 "nbformat_minor": 2
}
