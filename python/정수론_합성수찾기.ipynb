{
 "cells": [
  {
   "cell_type": "markdown",
   "id": "2dfdc770-4d4f-498b-ac5f-9cfcb6e24e49",
   "metadata": {},
   "source": [
    "# 제 16장 법 m에 대한 거듭제곱과 연속제곱법\n",
    "$a^k$ (mod m) 계산\n",
    "\n",
    "**** PYTHON 내 담을 수 있는 숫자의 길이제한 때문에 너무 큰 수에 대해서는 제대로 작동 X"
   ]
  },
  {
   "cell_type": "code",
   "execution_count": 1,
   "id": "1bf4fec2-750b-44f7-b34c-d4f4b01f988e",
   "metadata": {},
   "outputs": [],
   "source": [
    "import numpy as np\n",
    "import pandas as pd\n",
    "\n",
    "def power_mod_cal(a,k,m):\n",
    "    \n",
    "    # 1) a의 2^k 거듭제곱을 법 m에 대해 계산한 결과표\n",
    "    a_power2_df = pd.DataFrame(index=range(0))\n",
    "    for i in range(int(np.log2(k))+1) :\n",
    "        if i == 0 : \n",
    "            value = a**(i+1) % m\n",
    "        else :\n",
    "            value = (value**2) % m\n",
    "        tmp_df = pd.DataFrame([[str(2**(i)), str(a) + '^' + str(2**(i)), value]])\n",
    "        a_power2_df = pd.concat([a_power2_df,tmp_df])\n",
    "    a_power2_df.columns = ['power_num','real_value', 'mod_value']\n",
    "    a_power2_df.reset_index(drop=True, inplace=True)\n",
    "    \n",
    "    # 2) k의 2진법 전개\n",
    "    binary_expansion = bin(k)[2:]\n",
    "    \n",
    "    # 3) 2진법 전개 활용한 합동수 계산\n",
    "    mod_val = np.float64(1)\n",
    "    for i in range(len(binary_expansion)) :\n",
    "        if binary_expansion[i] == '1' :\n",
    "            mod_val *= a_power2_df['mod_value'].iloc[-(i+1)]\n",
    "            mod_val = mod_val % m\n",
    "    return int(mod_val)"
   ]
  },
  {
   "cell_type": "code",
   "execution_count": 68,
   "id": "951712a1-ad46-4579-a32b-fcd16184198b",
   "metadata": {},
   "outputs": [
    {
     "data": {
      "text/plain": [
       "286"
      ]
     },
     "execution_count": 68,
     "metadata": {},
     "output_type": "execute_result"
    }
   ],
   "source": [
    "a = 7\n",
    "k = 327\n",
    "m = 853\n",
    "power_mod_cal(a=a, k=k, m=m)"
   ]
  },
  {
   "cell_type": "code",
   "execution_count": null,
   "id": "699b368e-f458-4d37-b8ac-9610de771e5d",
   "metadata": {},
   "outputs": [],
   "source": [
    "(7**(10**200000)) % 853"
   ]
  },
  {
   "cell_type": "code",
   "execution_count": 48,
   "id": "b50ce347-d479-451e-bb4f-d0edc1bf14e6",
   "metadata": {},
   "outputs": [
    {
     "data": {
      "text/plain": [
       "1"
      ]
     },
     "execution_count": 48,
     "metadata": {},
     "output_type": "execute_result"
    }
   ],
   "source": [
    "a = 5\n",
    "k = 117\n",
    "m = 19\n",
    "power_mod_cal(a=a, k=k, m=m)"
   ]
  },
  {
   "cell_type": "code",
   "execution_count": 45,
   "id": "699f6266-9e77-41ba-b9c7-47cb19200a04",
   "metadata": {},
   "outputs": [
    {
     "ename": "OverflowError",
     "evalue": "int too large to convert to float",
     "output_type": "error",
     "traceback": [
      "\u001b[1;31m---------------------------------------------------------------------------\u001b[0m",
      "\u001b[1;31mOverflowError\u001b[0m                             Traceback (most recent call last)",
      "\u001b[1;32m<ipython-input-45-504bd4a74a57>\u001b[0m in \u001b[0;36m<module>\u001b[1;34m\u001b[0m\n\u001b[0;32m      1\u001b[0m \u001b[0ma\u001b[0m \u001b[1;33m=\u001b[0m \u001b[1;36m7\u001b[0m\u001b[1;33m\u001b[0m\u001b[1;33m\u001b[0m\u001b[0m\n\u001b[1;32m----> 2\u001b[1;33m \u001b[0mk\u001b[0m \u001b[1;33m=\u001b[0m \u001b[0mfloat\u001b[0m\u001b[1;33m(\u001b[0m\u001b[1;36m10\u001b[0m\u001b[1;33m**\u001b[0m\u001b[1;33m(\u001b[0m\u001b[1;36m200000\u001b[0m\u001b[1;33m)\u001b[0m\u001b[1;33m)\u001b[0m\u001b[1;33m\u001b[0m\u001b[1;33m\u001b[0m\u001b[0m\n\u001b[0m\u001b[0;32m      3\u001b[0m \u001b[0mm\u001b[0m \u001b[1;33m=\u001b[0m \u001b[1;36m853\u001b[0m\u001b[1;33m\u001b[0m\u001b[1;33m\u001b[0m\u001b[0m\n\u001b[0;32m      4\u001b[0m \u001b[0mpower_mod_cal\u001b[0m\u001b[1;33m(\u001b[0m\u001b[0ma\u001b[0m\u001b[1;33m=\u001b[0m\u001b[0ma\u001b[0m\u001b[1;33m,\u001b[0m \u001b[0mk\u001b[0m\u001b[1;33m=\u001b[0m\u001b[0mk\u001b[0m\u001b[1;33m,\u001b[0m \u001b[0mm\u001b[0m\u001b[1;33m=\u001b[0m\u001b[0mm\u001b[0m\u001b[1;33m)\u001b[0m\u001b[1;33m\u001b[0m\u001b[1;33m\u001b[0m\u001b[0m\n",
      "\u001b[1;31mOverflowError\u001b[0m: int too large to convert to float"
     ]
    }
   ],
   "source": [
    "a = 7\n",
    "k = float(10**(200000))\n",
    "m = 853\n",
    "power_mod_cal(a=a, k=k, m=m)"
   ]
  },
  {
   "cell_type": "code",
   "execution_count": null,
   "id": "70994421-3fec-495f-af51-3496ca4e3019",
   "metadata": {},
   "outputs": [],
   "source": []
  },
  {
   "cell_type": "markdown",
   "id": "21ee1543-0432-4675-ac96-7d2cbbf39d1a",
   "metadata": {},
   "source": [
    "# 제 17장 법 m에 대한 k-제곱근 구하기\n",
    "$x^k$ $\\equiv$ b (mod m) 계산\n",
    "\n",
    "where gcd(b, m ) = 1, gcd(k, $\\Phi$(m)) = 1\n",
    "\n",
    "참고) 오일러의 공식 : $a^{\\phi (m)}$ $\\equiv$ 1 (mod m)  where gcd(a,m) = 1, s.t $\\phi (m)$ = #{a : 1 $\\le$ a $\\le$ m, gcd(a,m) = 1}  ( 1과 m 사이 수 중 m과 서로소인 수의 개수)\n",
    "\n",
    "**** PYTHON 내 담을 수 있는 숫자의 길이제한 때문에 너무 큰 수에 대해서는 제대로 작동 X"
   ]
  },
  {
   "cell_type": "code",
   "execution_count": 2,
   "id": "9f21be06-91a3-4fb8-b568-7f9678232e58",
   "metadata": {},
   "outputs": [],
   "source": [
    "import numpy as np\n",
    "from collections import Counter\n",
    "def root_mod_cal(k,b,m):\n",
    "    \n",
    "    # 가정 위배되는 경우 에러 발생(1)\n",
    "    if np.gcd(b,m) != 1 :\n",
    "        raise NameError('gcd(b,m) != 1')\n",
    "        \n",
    "    # 소인수 계산\n",
    "    def factorize2(n):\n",
    "        factor = 2 #시작 소수 지정\n",
    "        factors = []\n",
    "        while (factor**2 <= n):  # 루트n까지 실행\n",
    "            while (n % factor == 0):  # 소수로 나누어 떨어지면(= 즉 약수면)\n",
    "                factors.append(factor)  # 리스트에 추가\n",
    "                n = n // factor  # n을 몫으로 변경\n",
    "            factor += 1\n",
    "        if n > 1 : # 1보다 크고 factor**2(4)보다 작은 경우 n은 소수임으로 append -> 2,3 경우\n",
    "            factors.append(n)\n",
    "        return factors\n",
    "\n",
    "    # pi(m)계산\n",
    "    fac_dic = Counter(factorize2(m))\n",
    "    pi_m = 1\n",
    "    for i in fac_dic.keys() :\n",
    "        pi_m *= (i ** fac_dic[i] - i ** (fac_dic[i]-1))\n",
    "    \n",
    "    # 가정 위배되는 경우 에러 발생(2)\n",
    "    if np.gcd(k,pi_m) != 1 :\n",
    "        raise NameError('gcd(k,pi(m)) != 1')\n",
    "    \n",
    "    # ku - pi(m)v = 1의 양수해 계산 (참고 : https://madrabbit7.tistory.com/96)\n",
    "    def congruence_equation(a, c, m):\n",
    "        g = np.gcd(a, m)  \n",
    "        lst = []\n",
    "        if c % g != 0:\n",
    "            print(f\"gcd({a}, {m}) = {g} : {c}을 나눌 수 없습니다. 정수해가 없습니다.\")\n",
    "            return None\n",
    "        da = a // g  # 3\n",
    "        dc = c // g  # 2\n",
    "        dm = m // g  # 13\n",
    "        for u in range(0, dm):  # 대입해가며 계산\n",
    "            r = (da * u - dc) % dm\n",
    "\n",
    "            if r ==0:\n",
    "\n",
    "                break\n",
    "        v = int((k * u - 1) / m)\n",
    "        return u, v\n",
    "\n",
    "    u,v =congruence_equation(k,1,pi_m) # 항상 양수해\n",
    "\n",
    "    # 합동식 처리\n",
    "    # (x^k)^u -> x^(  beta + pi(m)*alpha  )\n",
    "    # 오일러의 공식 사용하기 위해\n",
    "    alpha = k * u // pi_m\n",
    "    beta = k * u % pi_m\n",
    "\n",
    "    # 연속제곱법 식으로 변경\n",
    "    #a^k(mod m)\n",
    "    a = b\n",
    "    k = u\n",
    "    m = m\n",
    "\n",
    "    # 연속제곱법 사용해 x와 합동인 값 산출\n",
    "    result = power_mod_cal(a=a,k=k,m=m)\n",
    "    return result"
   ]
  },
  {
   "cell_type": "code",
   "execution_count": 20,
   "id": "46e0963b-cd2e-4650-a65f-bc6b46ffa0aa",
   "metadata": {},
   "outputs": [
    {
     "data": {
      "text/plain": [
       "905"
      ]
     },
     "execution_count": 20,
     "metadata": {},
     "output_type": "execute_result"
    }
   ],
   "source": [
    "# 제대로 작동\n",
    "k = 131\n",
    "b = 758\n",
    "m = 1073\n",
    "root_mod_cal(k=k, b=b, m=m)"
   ]
  },
  {
   "cell_type": "code",
   "execution_count": 25,
   "id": "99d47ca5-2e82-4058-9976-4b80c9ccc115",
   "metadata": {},
   "outputs": [
    {
     "name": "stderr",
     "output_type": "stream",
     "text": [
      "<ipython-input-24-65bf6d823c6f>:43: RuntimeWarning: overflow encountered in long_scalars\n",
      "  r = (da * u - dc) % dm\n"
     ]
    },
    {
     "data": {
      "text/plain": [
       "24624353"
      ]
     },
     "execution_count": 25,
     "metadata": {},
     "output_type": "execute_result"
    }
   ],
   "source": [
    "# <ipython-input-24-65bf6d823c6f>:43: RuntimeWarning: overflow encountered in long_scalars 발생\n",
    "# 길이가 긴 값을 담을 수 없어 제대로 된 답이 나오지 않음 ( 원래 답 : 22,929,826)\n",
    "k = 3968039\n",
    "b = 74781\n",
    "m = 27040397\n",
    "root_mod_cal(k=k, b=b, m=m)"
   ]
  },
  {
   "cell_type": "code",
   "execution_count": null,
   "id": "4ef77c20-2ca2-4454-91e3-9b603adfc710",
   "metadata": {},
   "outputs": [],
   "source": []
  },
  {
   "cell_type": "markdown",
   "id": "e25bef35-bf85-4eb9-a630-d6b882f0d855",
   "metadata": {},
   "source": [
    "# 제 19장 라빈-밀러 합성수 판정법\n",
    "n이 홀수, 적당한 홀수 q에 대해 n-1 = $2^k$q로 표현하자. n의 배수가 아닌 적당한 a가 다음 두 조건을 만족한다면 n은 합성수이다.\n",
    "\n",
    "(a) $a^q$ !$\\equiv$ 1 (mod n)\n",
    "\n",
    "(b) 모든 i = 0, 1, ..., k-1에 대해 $a^{(2^i)}q$ !$\\equiv$ -1 (mod n)"
   ]
  },
  {
   "cell_type": "code",
   "execution_count": 3,
   "id": "763af248-3dd8-430c-a554-1995be238b6e",
   "metadata": {},
   "outputs": [],
   "source": [
    "def rabin_miller_test_for_composite_numbers(n) :\n",
    "    \n",
    "    # k 계산\n",
    "    k = 0\n",
    "    for _k in range(1, int(np.log2(n))+1):\n",
    "        if (n-1)%(2**(_k)) == 0 :\n",
    "            k = _k\n",
    "            \n",
    "    # q 계산\n",
    "    q = int((n-1) / (2**k))\n",
    "    \n",
    "    # 조건만족여부 확인\n",
    "    # 만일 n이 홀수인 합성수라면, 1과 n-1 사이에 적어도 75%의 수가 라빈-밀러 증인\n",
    "    def rabin_miller_witness(a,q,n) :\n",
    "        if power_mod_cal(a=a, k=q, m=n) != 1 : # (a) 조건\n",
    "            for i in range(k):   # (b) 조건\n",
    "                if i == 0 :\n",
    "                    tmp = power_mod_cal(a, q, n)\n",
    "                else :\n",
    "                    tmp = tmp**2 % n\n",
    "\n",
    "                if tmp % n == (n-1) :\n",
    "                    return None\n",
    "        else :\n",
    "            return None\n",
    "        \n",
    "        return a\n",
    "    \n",
    "    # 라빈-밀러 증인 리스트 생성\n",
    "    rabin_miller_witness_lst = []\n",
    "    \n",
    "    for a in range(1, n):\n",
    "        tmp = rabin_miller_witness(a,q,n)\n",
    "        if tmp != None :\n",
    "            print(f\"라빈-밀러 증인 {tmp}를 찾았습니다\")\n",
    "            print(f\"{n}은 합성수입니다.\")\n",
    "            return None\n",
    "    print(f\"{n}은 굉장히 높은 확률(1 - 0.25^100)로 소수입니다.\")\n",
    "    return None"
   ]
  },
  {
   "cell_type": "code",
   "execution_count": 4,
   "id": "c9b77f8a-d383-4f5b-87e5-615227f6461a",
   "metadata": {
    "scrolled": true,
    "tags": []
   },
   "outputs": [
    {
     "name": "stdout",
     "output_type": "stream",
     "text": [
      "라빈-밀러 증인 2를 찾았습니다\n",
      "561은 합성수입니다.\n"
     ]
    }
   ],
   "source": [
    "rabin_miller_witness_lst = rabin_miller_test_for_composite_numbers(561)"
   ]
  },
  {
   "cell_type": "code",
   "execution_count": 5,
   "id": "52b83d59-e258-44a0-9bde-5d0e2f8041a7",
   "metadata": {},
   "outputs": [
    {
     "name": "stdout",
     "output_type": "stream",
     "text": [
      "라빈-밀러 증인 2를 찾았습니다\n",
      "172947529은 합성수입니다.\n"
     ]
    }
   ],
   "source": [
    "rabin_miller_test_for_composite_numbers(172947529)"
   ]
  },
  {
   "cell_type": "code",
   "execution_count": 6,
   "id": "da6ddbb1-80fe-4f6b-9df1-fc6f674f10c8",
   "metadata": {},
   "outputs": [
    {
     "name": "stdout",
     "output_type": "stream",
     "text": [
      "7은 굉장히 높은 확률(1 - 0.25^100)로 소수입니다.\n"
     ]
    }
   ],
   "source": [
    "rabin_miller_test_for_composite_numbers(7)"
   ]
  },
  {
   "cell_type": "code",
   "execution_count": null,
   "id": "8154c3b0-67d5-40d8-a3f9-55e9d59c4c7e",
   "metadata": {},
   "outputs": [],
   "source": [
    "# n보다 작은 라빈-밀러 증인을 모두 찾아 저장하려 했으나 코드 수행 시간이 너무 길어 증인 1개를 찾으면 코드 종료 및 문구 표시하도록 수정"
   ]
  },
  {
   "cell_type": "code",
   "execution_count": null,
   "id": "37b36fdf-46de-4eb9-8dc9-9389765018d8",
   "metadata": {},
   "outputs": [],
   "source": []
  }
 ],
 "metadata": {
  "kernelspec": {
   "display_name": "Python 3",
   "language": "python",
   "name": "python3"
  },
  "language_info": {
   "codemirror_mode": {
    "name": "ipython",
    "version": 3
   },
   "file_extension": ".py",
   "mimetype": "text/x-python",
   "name": "python",
   "nbconvert_exporter": "python",
   "pygments_lexer": "ipython3",
   "version": "3.8.8"
  }
 },
 "nbformat": 4,
 "nbformat_minor": 5
}
