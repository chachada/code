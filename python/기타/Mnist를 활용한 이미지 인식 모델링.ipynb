{
 "cells": [
  {
   "cell_type": "markdown",
   "metadata": {},
   "source": [
    "# 전산물리 기말프로젝트"
   ]
  },
  {
   "cell_type": "markdown",
   "metadata": {},
   "source": [
    "# 요약\n",
    "- 이미지 인식을 주제로 기말프로젝트를 진행함\n",
    "- 0~9 숫자 이미지 데이터를 활용해 머신러닝 기법(4개), 딥러닝 기법(1개)을 적용해 총 5가지 모델을 학습시키고 정확도로 결과를 확인함\n",
    "\n",
    "- 1. 데이터 불러오기\n",
    "    - tensorflow module의 mnist 데이터 활용\n",
    "    - 28 X 28 이미지 데이터\n",
    "    - 60,000개의 학습 데이터와 10,000개의 시험 데이터로 이뤄짐\n",
    "    \n",
    "- 2. 데이터 탐색\n",
    "    - 0 ~ 255 값을 가지고 있어 각 값을 255로 나누어 0 ~ 1로 스케일링 하기로 함\n",
    "    - 0~9 숫자 이미지가 고르게 분포함을 확인\n",
    "    \n",
    "- 3. 모형 적합\n",
    "    - 머신러닝\n",
    "            1) RandomForest\n",
    "            2) Kneighbors\n",
    "            3) Multinomial Logistic Regression\n",
    "            4) Support Vector Machine(SVM(\n",
    "    - 딥러닝\n",
    "            1) CNN(Convolutional Neural Network)\n",
    "- 4. 모형 선정\n",
    "    - 10,000개의 시험데이터 예측 결과로 계산한 정확도를 활용해 모형 평가\n",
    "    - 딥러닝 기법인 CNN이 가장 좋은 결과 (99.46%)\n",
    "    - 머신러닝 중에서는 SVM이 가장 좋은 결과 (97.92%)"
   ]
  },
  {
   "cell_type": "markdown",
   "metadata": {},
   "source": [
    "# 이미지 인식\n",
    "활용 데이터 : MNIST"
   ]
  },
  {
   "cell_type": "markdown",
   "metadata": {},
   "source": [
    "### 1. 데이터 불러오기"
   ]
  },
  {
   "cell_type": "code",
   "execution_count": 67,
   "metadata": {},
   "outputs": [],
   "source": [
    "import tensorflow as tf\n",
    "(x_train, y_train), (x_test, y_test) = tf.keras.datasets.mnist.load_data()"
   ]
  },
  {
   "cell_type": "code",
   "execution_count": 68,
   "metadata": {},
   "outputs": [
    {
     "name": "stdout",
     "output_type": "stream",
     "text": [
      "x_train : (60000, 28, 28), y_train : (60000,)\n",
      "x_test : (10000, 28, 28), y_test : (10000,)\n"
     ]
    }
   ],
   "source": [
    "# 데이터 shape 확인\n",
    "print(f'x_train : {x_train.shape}, y_train : {y_train.shape}')\n",
    "print(f'x_test : {x_test.shape}, y_test : {y_test.shape}')"
   ]
  },
  {
   "cell_type": "code",
   "execution_count": 69,
   "metadata": {},
   "outputs": [
    {
     "data": {
      "image/png": "[encoded data removed]",
      "text/plain": [
       "<Figure size 1584x288 with 8 Axes>"
      ]
     },
     "metadata": {
      "needs_background": "light"
     },
     "output_type": "display_data"
    }
   ],
   "source": [
    "# 데이터 확인\n",
    "import numpy as np\n",
    "import matplotlib.pyplot as plt\n",
    "\n",
    "# 훈련데이터 및 라벨 확인\n",
    "def show_grid_images(image_num_list, ncols=8, title=None):\n",
    "    figure, axs = plt.subplots(figsize=(22, 4), nrows=1, ncols=ncols)\n",
    "    for i in range(ncols):\n",
    "        image = x_train[image_num_list[i]]\n",
    "        axs[i].imshow(image, cmap=plt.cm.gray_r, interpolation = \"nearest\")\n",
    "        axs[i].set_title(f'label : {y_train[image_num_list[i]]}')  \n",
    "show_grid_images(np.arange(8))"
   ]
  },
  {
   "cell_type": "markdown",
   "metadata": {},
   "source": [
    "# 2. 데이터 탐색"
   ]
  },
  {
   "cell_type": "code",
   "execution_count": 20,
   "metadata": {},
   "outputs": [
    {
     "name": "stdout",
     "output_type": "stream",
     "text": [
      "min_value : 0, max_value : 255\n"
     ]
    }
   ],
   "source": [
    "# 데이터 min/max 확인\n",
    "print(f'min_value : {x_train[0].min()}, max_value : {x_train[0].max()}')\n",
    "\n",
    "# -> 스케일링 필요성 확인"
   ]
  },
  {
   "cell_type": "code",
   "execution_count": 21,
   "metadata": {},
   "outputs": [
    {
     "data": {
      "text/html": [
       "<div>\n",
       "<style scoped>\n",
       "    .dataframe tbody tr th:only-of-type {\n",
       "        vertical-align: middle;\n",
       "    }\n",
       "\n",
       "    .dataframe tbody tr th {\n",
       "        vertical-align: top;\n",
       "    }\n",
       "\n",
       "    .dataframe thead th {\n",
       "        text-align: right;\n",
       "    }\n",
       "</style>\n",
       "<table border=\"1\" class=\"dataframe\">\n",
       "  <thead>\n",
       "    <tr style=\"text-align: right;\">\n",
       "      <th></th>\n",
       "      <th>index</th>\n",
       "    </tr>\n",
       "    <tr>\n",
       "      <th>label</th>\n",
       "      <th></th>\n",
       "    </tr>\n",
       "  </thead>\n",
       "  <tbody>\n",
       "    <tr>\n",
       "      <th>0</th>\n",
       "      <td>5923</td>\n",
       "    </tr>\n",
       "    <tr>\n",
       "      <th>1</th>\n",
       "      <td>6742</td>\n",
       "    </tr>\n",
       "    <tr>\n",
       "      <th>2</th>\n",
       "      <td>5958</td>\n",
       "    </tr>\n",
       "    <tr>\n",
       "      <th>3</th>\n",
       "      <td>6131</td>\n",
       "    </tr>\n",
       "    <tr>\n",
       "      <th>4</th>\n",
       "      <td>5842</td>\n",
       "    </tr>\n",
       "    <tr>\n",
       "      <th>5</th>\n",
       "      <td>5421</td>\n",
       "    </tr>\n",
       "    <tr>\n",
       "      <th>6</th>\n",
       "      <td>5918</td>\n",
       "    </tr>\n",
       "    <tr>\n",
       "      <th>7</th>\n",
       "      <td>6265</td>\n",
       "    </tr>\n",
       "    <tr>\n",
       "      <th>8</th>\n",
       "      <td>5851</td>\n",
       "    </tr>\n",
       "    <tr>\n",
       "      <th>9</th>\n",
       "      <td>5949</td>\n",
       "    </tr>\n",
       "  </tbody>\n",
       "</table>\n",
       "</div>"
      ],
      "text/plain": [
       "       index\n",
       "label       \n",
       "0       5923\n",
       "1       6742\n",
       "2       5958\n",
       "3       6131\n",
       "4       5842\n",
       "5       5421\n",
       "6       5918\n",
       "7       6265\n",
       "8       5851\n",
       "9       5949"
      ]
     },
     "execution_count": 21,
     "metadata": {},
     "output_type": "execute_result"
    }
   ],
   "source": [
    "# label 분포 확인\n",
    "import pandas as pd\n",
    "pd.DataFrame(y_train, columns=['label']).reset_index().groupby('label').count()\n",
    "\n",
    "# -> 라벨 5가 5,421개로 최소 표본 / 라벨 1이 6,742개로 최대 표본을 가지고 있음\n",
    "# -> 라벨 분포가 유사하므로 imbalance 하지 않음"
   ]
  },
  {
   "cell_type": "markdown",
   "metadata": {},
   "source": [
    "# 3. 모형 적합"
   ]
  },
  {
   "cell_type": "markdown",
   "metadata": {},
   "source": [
    "## - 머신러닝\n",
    "1) 28X28 데이터를 784(28X28)로 Flatten해 784개의 feature를 가지고 있는 데이터 셋으로 간주\n",
    "\n",
    "2) 4가지 머신러닝 모델을 적합(randomforest, kneighbors, multinomial logistic regression, svm)"
   ]
  },
  {
   "cell_type": "code",
   "execution_count": 22,
   "metadata": {},
   "outputs": [],
   "source": [
    "# 1) 28X28 데이터를 784(28X28)로 Flatten해 784개의 feature를 가지고 있는 데이터 셋으로 간주\n",
    "# 데이터 정규화\n",
    "x_train = x_train/255.0\n",
    "\n",
    "# one-hot encoding\n",
    "from tensorflow.keras.utils import to_categorical\n",
    "y_train = to_categorical(y_train)\n",
    "\n",
    "# x_train flatten\n",
    "x_train = x_train.reshape(x_train.shape[0], x_train.shape[1] * x_train.shape[2])"
   ]
  },
  {
   "cell_type": "code",
   "execution_count": 23,
   "metadata": {},
   "outputs": [
    {
     "name": "stdout",
     "output_type": "stream",
     "text": [
      "x_train : (60000, 784), y_train : (60000, 10)\n"
     ]
    }
   ],
   "source": [
    "# 데이터 shape 확인\n",
    "print(f'x_train : {x_train.shape}, y_train : {y_train.shape}')"
   ]
  },
  {
   "cell_type": "code",
   "execution_count": 24,
   "metadata": {},
   "outputs": [
    {
     "name": "stderr",
     "output_type": "stream",
     "text": [
      "C:\\Users\\차정윤\\AppData\\Roaming\\Python\\Python37\\site-packages\\sklearn\\linear_model\\_logistic.py:818: ConvergenceWarning: lbfgs failed to converge (status=1):\n",
      "STOP: TOTAL NO. of ITERATIONS REACHED LIMIT.\n",
      "\n",
      "Increase the number of iterations (max_iter) or scale the data as shown in:\n",
      "    https://scikit-learn.org/stable/modules/preprocessing.html\n",
      "Please also refer to the documentation for alternative solver options:\n",
      "    https://scikit-learn.org/stable/modules/linear_model.html#logistic-regression\n",
      "  extra_warning_msg=_LOGISTIC_SOLVER_CONVERGENCE_MSG,\n"
     ]
    }
   ],
   "source": [
    "# 2) 4가지 머신러닝 모델을 적합\n",
    "import joblib\n",
    "\n",
    "# RandomForest\n",
    "from sklearn.ensemble import RandomForestClassifier\n",
    "rf_model = RandomForestClassifier()\n",
    "rf_model.fit(x_train, y_train)\n",
    "# 모형 저장\n",
    "joblib.dump(rf_model, './rf_model.pkl')\n",
    "rf_model = joblib.load('./rf_model.pkl') \n",
    "\n",
    "\n",
    "# KNeighbors\n",
    "from sklearn.neighbors import KNeighborsClassifier\n",
    "kn_model = KNeighborsClassifier()\n",
    "kn_model.fit(x_train, y_train)\n",
    "# 모형 저장\n",
    "joblib.dump(kn_model, './kn_model.pkl')\n",
    "kn_model = joblib.load('./kn_model.pkl') \n",
    "\n",
    "\n",
    "# 다항로지스틱회귀분석\n",
    "from sklearn.linear_model import LogisticRegression\n",
    "lr_model = LogisticRegression(multi_class = \"multinomial\", solver = \"lbfgs\")\n",
    "# 다항로지스틱은 원핫인코딩 하지 않음\n",
    "lr_model.fit(x_train, np.argmax(y_train, axis=1))\n",
    "# 모형 저장\n",
    "joblib.dump(lr_model, './lr_model.pkl')\n",
    "lr_model = joblib.load('./lr_model.pkl') \n",
    "\n",
    "\n",
    "# SVM\n",
    "from sklearn import svm\n",
    "svm_model = svm.SVC()\n",
    "# SVM은 원핫인코딩 하지 않음\n",
    "svm_model.fit(x_train, np.argmax(y_train, axis=1))\n",
    "# 모형 저장\n",
    "joblib.dump(svm_model, './svm_model.pkl')\n",
    "svm_model = joblib.load('./svm_model.pkl') "
   ]
  },
  {
   "cell_type": "markdown",
   "metadata": {},
   "source": [
    "## - 딥러닝\n",
    "- 이미지인식에 특화된 딥러닝 모델(CNN) 활용"
   ]
  },
  {
   "cell_type": "code",
   "execution_count": 29,
   "metadata": {},
   "outputs": [
    {
     "name": "stdout",
     "output_type": "stream",
     "text": [
      "Model: \"model_1\"\n",
      "_________________________________________________________________\n",
      "Layer (type)                 Output Shape              Param #   \n",
      "=================================================================\n",
      "input_3 (InputLayer)         [(None, 28, 28, 1)]       0         \n",
      "_________________________________________________________________\n",
      "conv2d_12 (Conv2D)           (None, 26, 26, 32)        320       \n",
      "_________________________________________________________________\n",
      "conv2d_13 (Conv2D)           (None, 26, 26, 32)        9248      \n",
      "_________________________________________________________________\n",
      "max_pooling2d_6 (MaxPooling2 (None, 13, 13, 32)        0         \n",
      "_________________________________________________________________\n",
      "conv2d_14 (Conv2D)           (None, 13, 13, 64)        18496     \n",
      "_________________________________________________________________\n",
      "conv2d_15 (Conv2D)           (None, 13, 13, 64)        36928     \n",
      "_________________________________________________________________\n",
      "activation_2 (Activation)    (None, 13, 13, 64)        0         \n",
      "_________________________________________________________________\n",
      "max_pooling2d_7 (MaxPooling2 (None, 6, 6, 64)          0         \n",
      "_________________________________________________________________\n",
      "conv2d_16 (Conv2D)           (None, 6, 6, 128)         73856     \n",
      "_________________________________________________________________\n",
      "conv2d_17 (Conv2D)           (None, 6, 6, 128)         147584    \n",
      "_________________________________________________________________\n",
      "max_pooling2d_8 (MaxPooling2 (None, 3, 3, 128)         0         \n",
      "_________________________________________________________________\n",
      "flatten (Flatten)            (None, 1152)              0         \n",
      "_________________________________________________________________\n",
      "dropout_3 (Dropout)          (None, 1152)              0         \n",
      "_________________________________________________________________\n",
      "fc1 (Dense)                  (None, 300)               345900    \n",
      "_________________________________________________________________\n",
      "dropout_4 (Dropout)          (None, 300)               0         \n",
      "_________________________________________________________________\n",
      "output (Dense)               (None, 10)                3010      \n",
      "=================================================================\n",
      "Total params: 635,342\n",
      "Trainable params: 635,342\n",
      "Non-trainable params: 0\n",
      "_________________________________________________________________\n"
     ]
    }
   ],
   "source": [
    "# CNN\n",
    "from tensorflow.keras.models import Sequential, Model, load_model\n",
    "from tensorflow.keras.layers import Input, Dense, Conv2D , Dropout , Flatten , Activation, MaxPooling2D\n",
    "from tensorflow.keras.optimizers import Adam\n",
    "import tensorflow as tf\n",
    "\n",
    "# 데이터 불러오기\n",
    "(train_images, train_labels), (test_images, test_labels) = tf.keras.datasets.mnist.load_data()\n",
    "\n",
    "# 데이터 전처리\n",
    "train_images = train_images.reshape(train_images.shape[0],train_images.shape[1],train_images.shape[2],1)\n",
    "train_images = train_images/255.0\n",
    "\n",
    "IMAGE_SIZE = 28 # mnist 이미지 사이즈\n",
    "input_tensor = Input(shape=(IMAGE_SIZE, IMAGE_SIZE, 1))\n",
    "\n",
    "# 모델 구축\n",
    "x = Conv2D(filters=32, kernel_size=(3, 3), padding='valid', activation='relu')(input_tensor)\n",
    "x = Conv2D(filters=32, kernel_size=(3, 3), padding='same', activation='relu')(x)\n",
    "x = MaxPooling2D(pool_size=(2, 2))(x)\n",
    "\n",
    "x = Conv2D(filters=64, kernel_size = (3,3), padding = 'same', activation='relu')(x)\n",
    "x = Conv2D(filters=64, kernel_size = (3,3), padding='same')(x)\n",
    "x = Activation('relu')(x)\n",
    "x = MaxPooling2D(pool_size = 2)(x)\n",
    "\n",
    "x = Conv2D(filters=128, kernel_size = (3,3), padding='same', activation='relu' )(x)\n",
    "x = Conv2D(filters=128, kernel_size = (3,3), padding='same', activation='relu' )(x)\n",
    "x = MaxPooling2D(pool_size = 2)(x)\n",
    "\n",
    "# mnist의 클래스가 10개 이므로 마지막 classification의 Dense layer units갯수는 10\n",
    "x = Flatten(name='flatten')(x)\n",
    "x = Dropout(rate=0.5)(x)\n",
    "x = Dense(300, activation='relu', name='fc1')(x)\n",
    "x = Dropout(rate=0.3)(x)\n",
    "output = Dense(10, activation='softmax', name='output')(x)\n",
    "\n",
    "cnn_model = Model(inputs=input_tensor, outputs=output)\n",
    "\n",
    "cnn_model.summary()"
   ]
  },
  {
   "cell_type": "code",
   "execution_count": 30,
   "metadata": {},
   "outputs": [],
   "source": [
    "# optimizer는 Adam으로 설정하고, label값이 원-핫 인코딩이 아니므로 loss는 sparse_categorical_crossentropy\n",
    "cnn_model.compile(optimizer=Adam(), loss='sparse_categorical_crossentropy', metrics=['accuracy'])"
   ]
  },
  {
   "cell_type": "code",
   "execution_count": 31,
   "metadata": {},
   "outputs": [
    {
     "name": "stdout",
     "output_type": "stream",
     "text": [
      "Train on 51000 samples, validate on 9000 samples\n",
      "Epoch 1/10\n",
      "51000/51000 [==============================] - 118s 2ms/sample - loss: 0.4775 - acc: 0.8419 - val_loss: 0.0646 - val_acc: 0.9814\n",
      "Epoch 2/10\n",
      "51000/51000 [==============================] - 111s 2ms/sample - loss: 0.0880 - acc: 0.9724 - val_loss: 0.0471 - val_acc: 0.9857\n",
      "Epoch 3/10\n",
      "51000/51000 [==============================] - 113s 2ms/sample - loss: 0.0584 - acc: 0.9819 - val_loss: 0.0364 - val_acc: 0.9906\n",
      "Epoch 4/10\n",
      "51000/51000 [==============================] - 130s 3ms/sample - loss: 0.0458 - acc: 0.9860 - val_loss: 0.0283 - val_acc: 0.9921\n",
      "Epoch 5/10\n",
      "51000/51000 [==============================] - 112s 2ms/sample - loss: 0.0367 - acc: 0.9888 - val_loss: 0.0289 - val_acc: 0.9916\n",
      "Epoch 6/10\n",
      "51000/51000 [==============================] - 115s 2ms/sample - loss: 0.0315 - acc: 0.9897 - val_loss: 0.0254 - val_acc: 0.9933\n",
      "Epoch 7/10\n",
      "51000/51000 [==============================] - 112s 2ms/sample - loss: 0.0278 - acc: 0.9912 - val_loss: 0.0318 - val_acc: 0.9922\n",
      "Epoch 8/10\n",
      "51000/51000 [==============================] - 115s 2ms/sample - loss: 0.0249 - acc: 0.9918 - val_loss: 0.0247 - val_acc: 0.9933\n",
      "Epoch 9/10\n",
      "51000/51000 [==============================] - 114s 2ms/sample - loss: 0.0213 - acc: 0.9930 - val_loss: 0.0249 - val_acc: 0.9933\n",
      "Epoch 10/10\n",
      "51000/51000 [==============================] - 113s 2ms/sample - loss: 0.0182 - acc: 0.9938 - val_loss: 0.0265 - val_acc: 0.9937\n"
     ]
    },
    {
     "data": {
      "text/plain": [
       "<tensorflow.python.keras.callbacks.History at 0x150a32f28d0>"
      ]
     },
     "execution_count": 31,
     "metadata": {},
     "output_type": "execute_result"
    }
   ],
   "source": [
    "# 모델 적합 (모델 구축에 의의가 있으므르 epochs는 10으로 설정.)\n",
    "# epochs가 적기 때문에 오버피팅 가능성은 배제(earlystopping이나 learning rate 조정 하지 않음)\n",
    "# val_acc를 확인해보면 감소하지 않기 때문에 오버피팅 되지 않았다고 판단\n",
    "cnn_model.fit(x=train_images, y=train_labels, batch_size=512, epochs=10, validation_split=0.15 ) # validation 15%"
   ]
  },
  {
   "cell_type": "code",
   "execution_count": 32,
   "metadata": {},
   "outputs": [
    {
     "name": "stderr",
     "output_type": "stream",
     "text": [
      "W1219 21:38:47.094855 29956 deprecation.py:506] From C:\\ProgramData\\Anaconda3\\lib\\site-packages\\tensorflow\\python\\ops\\init_ops.py:97: calling GlorotUniform.__init__ (from tensorflow.python.ops.init_ops) with dtype is deprecated and will be removed in a future version.\n",
      "Instructions for updating:\n",
      "Call initializer instance with the dtype argument instead of passing it to the constructor\n",
      "W1219 21:38:47.095882 29956 deprecation.py:506] From C:\\ProgramData\\Anaconda3\\lib\\site-packages\\tensorflow\\python\\ops\\init_ops.py:97: calling Zeros.__init__ (from tensorflow.python.ops.init_ops) with dtype is deprecated and will be removed in a future version.\n",
      "Instructions for updating:\n",
      "Call initializer instance with the dtype argument instead of passing it to the constructor\n"
     ]
    }
   ],
   "source": [
    "# 모델 저장\n",
    "cnn_model.save('./cnn_model')\n",
    "cnn_model = load_model(\"./cnn_model\")"
   ]
  },
  {
   "cell_type": "code",
   "execution_count": null,
   "metadata": {},
   "outputs": [],
   "source": []
  },
  {
   "cell_type": "markdown",
   "metadata": {},
   "source": [
    "# 4. 모형 선정\n",
    "- 제일 좋은 성능의 모형 선택"
   ]
  },
  {
   "cell_type": "code",
   "execution_count": 33,
   "metadata": {},
   "outputs": [],
   "source": [
    "# 3) 제일 좋은 성능의 모형 선택\n",
    "# 성능평가\n",
    "# ML\n",
    "# 성능평가를 위한 테스트 데이터 전처리\n",
    "x_test = x_test/255.0\n",
    "\n",
    "# one-hot encoding\n",
    "from tensorflow.keras.utils import to_categorical\n",
    "y_test = to_categorical(y_test) # one-hot encoding\n",
    "\n",
    "# x_test flatten\n",
    "x_test = x_test.reshape(x_test.shape[0], x_test.shape[1] * x_test.shape[2])\n",
    "\n",
    "\n",
    "# DL\n",
    "# 성능평가를 위한 테스트 데이터 전처리\n",
    "test_images = test_images.reshape(test_images.shape[0],test_images.shape[1],test_images.shape[2],1)\n",
    "test_images = test_images/255.0"
   ]
  },
  {
   "cell_type": "code",
   "execution_count": 34,
   "metadata": {},
   "outputs": [],
   "source": [
    "# 모델 파일 불러오기\n",
    "import glob\n",
    "ml_model = glob.glob('./*model.pkl')\n",
    "dl_model = ['./cnn_model']"
   ]
  },
  {
   "cell_type": "code",
   "execution_count": 95,
   "metadata": {},
   "outputs": [
    {
     "data": {
      "text/plain": [
       "(['.\\\\kn_model.pkl', '.\\\\lr_model.pkl', '.\\\\rf_model.pkl', '.\\\\svm_model.pkl'],\n",
       " ['./cnn_model'])"
      ]
     },
     "execution_count": 95,
     "metadata": {},
     "output_type": "execute_result"
    }
   ],
   "source": [
    "# 모델 파일 확인\n",
    "ml_model, dl_model"
   ]
  },
  {
   "cell_type": "code",
   "execution_count": 49,
   "metadata": {},
   "outputs": [
    {
     "name": "stdout",
     "output_type": "stream",
     "text": [
      "10000/10000 [==============================] - 8s 833us/sample - loss: 0.0171 - acc: 0.9946\n"
     ]
    }
   ],
   "source": [
    "# test 데이터 적용 및 정확도 저장\n",
    "from sklearn.metrics import accuracy_score\n",
    "result = pd.DataFrame(index=range(0))\n",
    "\n",
    "# 머신러닝(ML)\n",
    "for model_file_nm in ml_model :\n",
    "    model = joblib.load(model_file_nm) # 모델 불러오기\n",
    "    pred = model.predict(x_test) # 예측\n",
    "    if 'lr' in model_file_nm or 'svm' in model_file_nm :\n",
    "        score = accuracy_score(pred, np.argmax(y_test, axis=1)) # 스코어 산출\n",
    "    else :\n",
    "    \n",
    "        score = accuracy_score(pred, y_test) # 스코어 산출\n",
    "    result = pd.concat([result,pd.DataFrame([[model_file_nm,score]])]) # 결과 저장\n",
    "    \n",
    "# 딥러닝(DL)\n",
    "for model_file_nm in dl_model :\n",
    "    model = load_model(model_file_nm) # 모델 불러오기\n",
    "    score = model.evaluate(test_images, test_labels)[1] # 스코어 산출\n",
    "    result =  pd.concat([result,pd.DataFrame([[model_file_nm,score]])]) # 결과 저장"
   ]
  },
  {
   "cell_type": "code",
   "execution_count": 52,
   "metadata": {},
   "outputs": [
    {
     "data": {
      "text/html": [
       "<div>\n",
       "<style scoped>\n",
       "    .dataframe tbody tr th:only-of-type {\n",
       "        vertical-align: middle;\n",
       "    }\n",
       "\n",
       "    .dataframe tbody tr th {\n",
       "        vertical-align: top;\n",
       "    }\n",
       "\n",
       "    .dataframe thead th {\n",
       "        text-align: right;\n",
       "    }\n",
       "</style>\n",
       "<table border=\"1\" class=\"dataframe\">\n",
       "  <thead>\n",
       "    <tr style=\"text-align: right;\">\n",
       "      <th></th>\n",
       "      <th>model</th>\n",
       "      <th>accuracy_score</th>\n",
       "    </tr>\n",
       "  </thead>\n",
       "  <tbody>\n",
       "    <tr>\n",
       "      <th>0</th>\n",
       "      <td>./cnn_model</td>\n",
       "      <td>0.9946</td>\n",
       "    </tr>\n",
       "    <tr>\n",
       "      <th>1</th>\n",
       "      <td>.\\svm_model.pkl</td>\n",
       "      <td>0.9792</td>\n",
       "    </tr>\n",
       "    <tr>\n",
       "      <th>2</th>\n",
       "      <td>.\\kn_model.pkl</td>\n",
       "      <td>0.9660</td>\n",
       "    </tr>\n",
       "    <tr>\n",
       "      <th>3</th>\n",
       "      <td>.\\lr_model.pkl</td>\n",
       "      <td>0.9258</td>\n",
       "    </tr>\n",
       "    <tr>\n",
       "      <th>4</th>\n",
       "      <td>.\\rf_model.pkl</td>\n",
       "      <td>0.9007</td>\n",
       "    </tr>\n",
       "  </tbody>\n",
       "</table>\n",
       "</div>"
      ],
      "text/plain": [
       "             model  accuracy_score\n",
       "0      ./cnn_model          0.9946\n",
       "1  .\\svm_model.pkl          0.9792\n",
       "2   .\\kn_model.pkl          0.9660\n",
       "3   .\\lr_model.pkl          0.9258\n",
       "4   .\\rf_model.pkl          0.9007"
      ]
     },
     "execution_count": 52,
     "metadata": {},
     "output_type": "execute_result"
    }
   ],
   "source": [
    "# 결과 확인 및 accuracy_score로 정렬\n",
    "result.columns = ['model', 'accuracy_score']\n",
    "result.sort_values('accuracy_score', ascending=False).reset_index(drop=True)\n",
    "# 딥러닝 모델이 가장 좋은 정확도를 보였고 머신러닝 중에서는 SVM이 가장 좋은 정확도를 보임"
   ]
  },
  {
   "cell_type": "code",
   "execution_count": null,
   "metadata": {},
   "outputs": [],
   "source": [
    "# 참고\n",
    "# 머신러닝을 활용한 이미지 인식의 경우 이미지 데이터의 픽셀값들이 아닌 이미지의 특성(가령 사람 이미지라면 눈의 크기, 코의 크기, 눈과 눈 사이 거리 등 사람을 특정 지을 수 있는 속성)을 활용하는 것으로 알고 있음\n",
    "# 본 프로젝트는 강의록을 참고해 진행했으므로 28X28 데이터를 784 array로 바꾸어 머신러닝 기법을 적용해보았음\n",
    "# 또한 mnist 데이터는 숫자가 전체 이미지 정가운데 있어 픽셀값들로도 충분히 학습이 가능하다고 생각됨\n",
    "# 추가로 이미지 인식에 특화된 딥러닝 모델에 관해 구글을 통해 학습하고 모델을 구축해봄"
   ]
  }
 ],
 "metadata": {
  "kernelspec": {
   "display_name": "Python 3",
   "language": "python",
   "name": "python3"
  },
  "language_info": {
   "codemirror_mode": {
    "name": "ipython",
    "version": 3
   },
   "file_extension": ".py",
   "mimetype": "text/x-python",
   "name": "python",
   "nbconvert_exporter": "python",
   "pygments_lexer": "ipython3",
   "version": "3.8.8"
  }
 },
 "nbformat": 4,
 "nbformat_minor": 4
}
