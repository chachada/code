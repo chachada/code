{
 "cells": [
  {
   "cell_type": "code",
   "execution_count": null,
   "id": "1a88aeb6-2603-419b-9d78-0320c2dfb9cd",
   "metadata": {},
   "outputs": [],
   "source": [
    "# 참고\n",
    "# https://something-to-do.tistory.com/10\n",
    "# https://velog.io/@d2h10s/LaTex-Markdown-%EC%88%98%EC%8B%9D-%EC%9E%91%EC%84%B1%EB%B2%95"
   ]
  },
  {
   "cell_type": "code",
   "execution_count": null,
   "id": "5e2a707e-6ff3-4bda-b6b0-4ae4e6340ca8",
   "metadata": {},
   "outputs": [],
   "source": []
  },
  {
   "cell_type": "markdown",
   "id": "f7b2a959-4531-4e63-ab54-824ea9b9b129",
   "metadata": {},
   "source": [
    "# 1. Header\n",
    "\"#\" 혹은 텍스트 아래 \"=\" / \"-\" 활용"
   ]
  },
  {
   "cell_type": "markdown",
   "id": "0a431562-20b3-4d56-9f7f-afa0533eaed0",
   "metadata": {},
   "source": [
    "# Head with 1 \"#\"\n",
    "## Head with 2 \"#\"\n",
    "### Head with 3 \"#\"\n",
    "#### Head with 4 \"#\"\n",
    "##### Head with 5 \"#\""
   ]
  },
  {
   "cell_type": "code",
   "execution_count": 1,
   "id": "d4c7a0f2-84da-43dd-96ba-75007c653ab7",
   "metadata": {},
   "outputs": [],
   "source": [
    "''' markdown code\n",
    "# Head with 1 \"#\"\n",
    "## Head with 2 \"#\"\n",
    "### Head with 3 \"#\"\n",
    "#### Head with 4 \"#\"\n",
    "##### Head with 5 \"#\"\n",
    "'''"
   ]
  },
  {
   "cell_type": "markdown",
   "id": "4b19caf3-74ef-4b34-864e-1497c0c967e5",
   "metadata": {},
   "source": [
    "Head with \"=\"\n",
    "===\n",
    "Head with \"-\"\n",
    "---"
   ]
  },
  {
   "cell_type": "code",
   "execution_count": null,
   "id": "715db5ba-f639-438b-877d-83348215e19a",
   "metadata": {},
   "outputs": [],
   "source": [
    "''' markdown code\n",
    "Head with \"=\"\n",
    "===\n",
    "Head with \"-\"\n",
    "---\n",
    "'''"
   ]
  },
  {
   "cell_type": "code",
   "execution_count": null,
   "id": "8c072117-6711-49be-a3b5-4e1a507cedcc",
   "metadata": {},
   "outputs": [],
   "source": []
  },
  {
   "cell_type": "code",
   "execution_count": null,
   "id": "b4424774-2308-424c-a79f-7ad701ac96b4",
   "metadata": {},
   "outputs": [],
   "source": []
  },
  {
   "cell_type": "markdown",
   "id": "696a6d7f-bbdd-41f6-91f4-393a4cc8363e",
   "metadata": {},
   "source": [
    "# 2. 리스트(불릿)\n",
    "1,2,3으로 넘버링 가능 / \"*\",\"-\",\"+\" 활용해 불릿(전부 똑같이 나옴) 가능\n",
    "\n",
    "tab활용해 하위목록 생성 가능(불릿 달라짐)"
   ]
  },
  {
   "cell_type": "markdown",
   "id": "c7cb8427-ae1a-4bc8-a878-5c77e9c3a6d0",
   "metadata": {},
   "source": [
    "1. 1번 내용\n",
    "2. 2번 내용\n",
    "3. 3번 내용"
   ]
  },
  {
   "cell_type": "code",
   "execution_count": null,
   "id": "a1abf6b1-1820-4589-b01b-4b750d098cdb",
   "metadata": {},
   "outputs": [],
   "source": [
    "''' markdown code\n",
    "1. 1번 내용\n",
    "2. 2번 내용\n",
    "3. 3번 내용\n",
    "'''"
   ]
  },
  {
   "cell_type": "markdown",
   "id": "df584f5d-392e-4589-867c-30e3ee4a5b60",
   "metadata": {},
   "source": [
    "* \"*\" 활용\n",
    "- \"-\" 활용\n",
    "+ \"+\" 활용"
   ]
  },
  {
   "cell_type": "code",
   "execution_count": null,
   "id": "c99aa212-5ef6-4bb6-b8ab-729f2d6dbc99",
   "metadata": {},
   "outputs": [],
   "source": [
    "''' markdown code\n",
    "* \"*\" 활용\n",
    "- \"-\" 활용\n",
    "+ \"+\" 활용\n",
    "'''"
   ]
  },
  {
   "cell_type": "markdown",
   "id": "ada241e4-1508-4dcb-9f26-e339605bfebd",
   "metadata": {},
   "source": [
    "1. 1번 내용  \n",
    "    1.1 1번 내용 세부1\n",
    "         - 세부내용\n",
    "         - 세부내용\n",
    "    1.2 1번 내용 세부2\n",
    "     - 세부내용\n",
    "        - 세부내용의 세부\n",
    "            - 세부내용의 세부의 세부 "
   ]
  },
  {
   "cell_type": "code",
   "execution_count": null,
   "id": "95e1692a-8dc5-4b1d-99e3-e5ec349a21a1",
   "metadata": {},
   "outputs": [],
   "source": [
    "''' markdown code\n",
    "1. 1번 내용  \n",
    "    1.1 1번 내용 세부1\n",
    "         - 세부내용\n",
    "         - 세부내용\n",
    "    1.2 1번 내용 세부2\n",
    "     - 세부내용\n",
    "        - 세부내용의 세부\n",
    "            - 세부내용의 세부의 세부  \n",
    "'''"
   ]
  },
  {
   "cell_type": "code",
   "execution_count": null,
   "id": "d2a6dd7a-2d13-43ea-9de8-3cb911173ca2",
   "metadata": {},
   "outputs": [],
   "source": []
  },
  {
   "cell_type": "code",
   "execution_count": null,
   "id": "642eb725-a922-4aec-8315-e7141f822e08",
   "metadata": {},
   "outputs": [],
   "source": []
  },
  {
   "cell_type": "markdown",
   "id": "cec3a0b9-fc20-4aed-bc43-ebcd9ff9b8f2",
   "metadata": {},
   "source": [
    "# 3. 폰트 스타일\n",
    "- 굵게 :  \"__\" / \"**\"\" 활용\n",
    "    - \"**sentence**\" / \"__sentence__\"\n",
    "\n",
    "- 기울여쓰기 : \"_\" / \"*\" 활용\n",
    "    - \"*sentence*\" / \"_sentence_\"\n",
    "    \n",
    "- 취소선 : \"~\" / \"~~\" 활용 (붙여서)\n",
    "    - \"~ sentence ~\" / \"~~ sentence ~~\""
   ]
  },
  {
   "cell_type": "markdown",
   "id": "d663c5ed-84a2-4718-a775-8e1a7b51e6e6",
   "metadata": {},
   "source": [
    "__굵게__\n",
    "\n",
    "**굵게**\n",
    "\n",
    "_기울여 쓰기_\n",
    "\n",
    "*기울여 쓰기*\n",
    "\n",
    "~취소선~\n",
    "\n",
    "~~취소선~~"
   ]
  },
  {
   "cell_type": "code",
   "execution_count": null,
   "id": "c10456d9-8a2c-4501-aae1-85a790b43f8d",
   "metadata": {},
   "outputs": [],
   "source": [
    "''' markdown code\n",
    "__굵게__\n",
    "**굵게**\n",
    "_기울여 쓰기_\n",
    "*기울여 쓰기*\n",
    "~취소선~\n",
    "~~취소선~~\n",
    "'''"
   ]
  },
  {
   "cell_type": "code",
   "execution_count": null,
   "id": "63173a2c-4ed8-4281-87dd-37ffabeda5e7",
   "metadata": {},
   "outputs": [],
   "source": []
  },
  {
   "cell_type": "code",
   "execution_count": null,
   "id": "4b57e8a8-a442-42e4-8593-8593e7ef5d19",
   "metadata": {},
   "outputs": [],
   "source": []
  },
  {
   "cell_type": "markdown",
   "id": "1b7768e5-4e0e-4a0e-af04-68215548e47d",
   "metadata": {},
   "source": [
    "# 4. 구분선\n",
    "3개 이상의 \"*\" , \"-\" 활용"
   ]
  },
  {
   "cell_type": "markdown",
   "id": "e113b213-6d84-41fb-92d0-62c38b6806ae",
   "metadata": {},
   "source": [
    "아래는 \"*\" 구분선\n",
    "\n",
    "***\n",
    "\n",
    "아래는 \"-\" 구분선\n",
    "\n",
    "---"
   ]
  },
  {
   "cell_type": "code",
   "execution_count": null,
   "id": "d9220810-6eca-4aa2-b125-dcffd235329c",
   "metadata": {},
   "outputs": [],
   "source": [
    "''' markdown code\n",
    "아래는 \"*\" 구분선\n",
    "\n",
    "***\n",
    "\n",
    "아래는 \"-\" 구분선\n",
    "\n",
    "---\n",
    "'''"
   ]
  },
  {
   "cell_type": "code",
   "execution_count": null,
   "id": "838f206c-7559-4565-9dbb-5e4c56e62b99",
   "metadata": {},
   "outputs": [],
   "source": []
  },
  {
   "cell_type": "code",
   "execution_count": null,
   "id": "25cc1cc2-516f-43fa-b0a2-ac52a01b8cc9",
   "metadata": {},
   "outputs": [],
   "source": []
  },
  {
   "cell_type": "markdown",
   "id": "a76bf597-31a5-40d2-85c3-32c16b8513ee",
   "metadata": {},
   "source": [
    "# 5. 줄바꿈\n",
    "한 번의 엔터로는 줄바꿈이 되지 않음!!  \n",
    "두 번의 공백 입력 후 엔터하면 줄바꿈 가능!!"
   ]
  },
  {
   "cell_type": "markdown",
   "id": "aa52a62b-46b7-46a4-b442-059a3ba557bd",
   "metadata": {},
   "source": [
    "공백없이엔터\n",
    "안넘어가죠~\n",
    "\n",
    "공백2개엔터  \n",
    "넘어가죠~"
   ]
  },
  {
   "cell_type": "code",
   "execution_count": null,
   "id": "4306c037-b401-4a82-ae48-25f16a6e6b8b",
   "metadata": {},
   "outputs": [],
   "source": [
    "''' markdown code\n",
    "공백없이엔터\n",
    "안넘어가죠~\n",
    "\n",
    "공백2개엔터  \n",
    "넘어가죠~\n",
    "'''"
   ]
  },
  {
   "cell_type": "code",
   "execution_count": null,
   "id": "45c88676-2b4a-4a23-b870-f70ff1f68d64",
   "metadata": {},
   "outputs": [],
   "source": []
  },
  {
   "cell_type": "code",
   "execution_count": null,
   "id": "03279a1a-4872-43ac-bcc5-1ccbf240e829",
   "metadata": {},
   "outputs": [],
   "source": []
  },
  {
   "cell_type": "markdown",
   "id": "79c94d73-faf8-44d4-87a0-8809776c6c19",
   "metadata": {},
   "source": [
    "# 6. 인용문\n",
    "\">\"을 활용"
   ]
  },
  {
   "cell_type": "markdown",
   "id": "5a34dc16-0f49-4910-945b-a5b7fb4c764b",
   "metadata": {},
   "source": [
    "노자(老子) 曰\n",
    "> 상선약수(上善若水) : 최상의 선은 물과 같다  \n",
    "\n",
    "인용문 예시 2\n",
    "> 인용문1\n",
    "> > 인용문1-1"
   ]
  },
  {
   "cell_type": "code",
   "execution_count": null,
   "id": "ff6a58d0-3b20-4096-94c5-beca86cfe508",
   "metadata": {},
   "outputs": [],
   "source": [
    "''' markdown code\n",
    "노자(老子) 曰\n",
    "> 상선약수(上善若水) : 최상의 선은 물과 같다  \n",
    "\n",
    "인용문 예시 2\n",
    "> 인용문1\n",
    "> > 인용문1-1\n",
    "'''"
   ]
  },
  {
   "cell_type": "code",
   "execution_count": null,
   "id": "47028ce5-33a0-4c33-a7e3-958433351411",
   "metadata": {},
   "outputs": [],
   "source": []
  },
  {
   "cell_type": "code",
   "execution_count": null,
   "id": "2286d415-7ba4-4497-8cc2-915d8e39b989",
   "metadata": {},
   "outputs": [],
   "source": []
  },
  {
   "cell_type": "markdown",
   "id": "f00b7fad-932e-4d9c-b537-7eaf279a1b1d",
   "metadata": {},
   "source": [
    "# 7. 코드블럭\n",
    "\"  `  \" 3개씩 앞뒤로 감싸 사용"
   ]
  },
  {
   "cell_type": "markdown",
   "id": "067b6294-d9bb-4c85-bb13-1045686f9e65",
   "metadata": {},
   "source": [
    "```print(\"Hi, github\")``` 를 실행하면 \"Hi, github\"가 출력된다."
   ]
  },
  {
   "cell_type": "code",
   "execution_count": null,
   "id": "5a8a731e-5c80-43fd-85c1-b9e5a56a0ebe",
   "metadata": {},
   "outputs": [],
   "source": [
    "''' markdown code\n",
    "```print(\"Hi, github\")``` 를 실행하면 \"Hi, github\"가 출력된다.\n",
    "'''"
   ]
  },
  {
   "cell_type": "code",
   "execution_count": null,
   "id": "838d82c1-342f-4cb9-98a0-812a73160faf",
   "metadata": {},
   "outputs": [],
   "source": []
  },
  {
   "cell_type": "code",
   "execution_count": null,
   "id": "fa3035ea-fd3a-4f25-85f4-e679587b7f6a",
   "metadata": {},
   "outputs": [],
   "source": []
  },
  {
   "cell_type": "markdown",
   "id": "80d8f6a6-1691-4aa3-9051-14cf4f83f842",
   "metadata": {},
   "source": [
    "# 8. 링크\n",
    "```[표시텍스트](url, \"링크 설명\")``` 으로 활용"
   ]
  },
  {
   "cell_type": "markdown",
   "id": "6f6f8414-1c8c-42fc-b378-a5f1109a368d",
   "metadata": {},
   "source": [
    "[Google](\"www.google.com\", \"구글 홈페이지 메인 화면\")"
   ]
  },
  {
   "cell_type": "code",
   "execution_count": null,
   "id": "cb4a665c-df5b-45ae-abfb-cd04656d22f3",
   "metadata": {},
   "outputs": [],
   "source": [
    "''' markdown code\n",
    "[Google](\"www.google.com\", \"구글 홈페이지 메인 화면\")\n",
    "'''"
   ]
  },
  {
   "cell_type": "code",
   "execution_count": null,
   "id": "6c16a579-67fa-4df3-abeb-d9a4c6e48405",
   "metadata": {},
   "outputs": [],
   "source": []
  },
  {
   "cell_type": "code",
   "execution_count": null,
   "id": "44916cb6-85ef-40fc-9c4f-555ca0f18d25",
   "metadata": {},
   "outputs": [],
   "source": []
  },
  {
   "cell_type": "markdown",
   "id": "fceb1b5a-4c0f-46e3-a6a3-b1fdc77fb9fc",
   "metadata": {},
   "source": [
    "# 9. 수식\n",
    "\"$\" 를 앞뒤로 감싸 사용"
   ]
  },
  {
   "cell_type": "code",
   "execution_count": null,
   "id": "5342cfe9-77dc-4f51-9241-e5718029ec0e",
   "metadata": {},
   "outputs": [],
   "source": []
  },
  {
   "cell_type": "markdown",
   "id": "c7ba3d11-3926-4669-9e28-34d40302e19a",
   "metadata": {},
   "source": [
    "### 9.1 수식 정렬\n",
    "\"$\"  : 기본(왼쪽 정렬)\n",
    "\n",
    "\"$$\"  : 중앙 정렬\n",
    "\n",
    "\"&\" 활용 : 특정 문자 기준 정렬"
   ]
  },
  {
   "cell_type": "markdown",
   "id": "114cca4c-5512-4971-a4ec-412cd87ac36d",
   "metadata": {},
   "source": [
    "$\n",
    "기본(왼쪽 정렬) : \\\\\n",
    "f(x)=ax^2+bx+c\\\\\n",
    "g(x)=Ax^4\n",
    "$\n",
    "\n",
    "---\n",
    "\n",
    "$$\n",
    "중앙 정렬 : \\\\\n",
    "f(x)=ax^2+bx+c\\\\\n",
    "g(x)=Ax^4\n",
    "$$\n",
    "\n",
    "---  \n",
    "\n",
    "$\n",
    "\\begin{aligned}\n",
    "특정 문자(=) 기준 정렬 : \\\\\n",
    "f(x)&=ax^2+bx+c\\\\\n",
    "g(x)&=Ax^4\n",
    "\\end{aligned}\n",
    "$"
   ]
  },
  {
   "cell_type": "code",
   "execution_count": null,
   "id": "0127a4a3-5551-4c95-8b47-f200935db9e6",
   "metadata": {},
   "outputs": [],
   "source": [
    "''' markdown code\n",
    "$\n",
    "기본(왼쪽 정렬) : \\\\\n",
    "f(x)=ax^2+bx+c\\\\\n",
    "g(x)=Ax^4\n",
    "$\n",
    "\n",
    "---\n",
    "\n",
    "$$\n",
    "중앙 정렬 : \\\\\n",
    "f(x)=ax^2+bx+c\\\\\n",
    "g(x)=Ax^4\n",
    "$$\n",
    "\n",
    "---  \n",
    "\n",
    "$\n",
    "\\begin{aligned}\n",
    "특정 문자(=) 기준 정렬 : \\\\\n",
    "f(x)&=ax^2+bx+c\\\\\n",
    "g(x)&=Ax^4\n",
    "\\end{aligned}\n",
    "$\n",
    "'''"
   ]
  },
  {
   "cell_type": "code",
   "execution_count": null,
   "id": "923a5f55-757c-475d-8dd7-045dc3b9cbe2",
   "metadata": {},
   "outputs": [],
   "source": []
  },
  {
   "cell_type": "markdown",
   "id": "fd3781b4-012c-48ba-87ca-7360acfae0f4",
   "metadata": {},
   "source": [
    "### 9.2 수식 내 줄바꿈 / 띄어쓰기\n",
    "\"\\\\\\\\\"  : 엔터\n",
    "\n",
    "\"\\\\\" + {\" , \", \" ; \", \" quad \"}  : 띄어쓰기 (1번, 2번, 4번)"
   ]
  },
  {
   "cell_type": "markdown",
   "id": "09fc9d1f-2be6-4c69-9eda-bf53481a141f",
   "metadata": {},
   "source": [
    "$ x+y=3 (엔터 적용) \\\\ x-y=2$\n",
    "\n",
    "$local minimum$(띄어쓰기 적용 X)  \n",
    "$local\\,minimum$(띄어쓰기 한 번)  \n",
    "$local\\;minimum$(띄어쓰기 두 번)  \n",
    "$local\\quad minimum$(띄어쓰기 네 번)"
   ]
  },
  {
   "cell_type": "code",
   "execution_count": null,
   "id": "01a6ac3c-f01f-497d-97fd-3b24d548ab0a",
   "metadata": {},
   "outputs": [],
   "source": [
    "''' markdown code\n",
    "$ x+y=3 (엔터 적용) \\\\ x-y=2$\n",
    "\n",
    "$local minimum$(띄어쓰기 적용 X)  \n",
    "$local\\,minimum$(띄어쓰기 한 번)  \n",
    "$local\\;minimum$(띄어쓰기 두 번)  \n",
    "$local\\quad minimum$(띄어쓰기 네 번)\n",
    "'''"
   ]
  },
  {
   "cell_type": "code",
   "execution_count": null,
   "id": "12f33ec4-66ac-4435-a922-0404026dcb52",
   "metadata": {},
   "outputs": [],
   "source": []
  },
  {
   "cell_type": "markdown",
   "id": "0471d843-4923-44fe-954a-1c8b4bcf82d8",
   "metadata": {},
   "source": [
    "### 9.3 첨자\n",
    "\"^\", \"_\" 활용"
   ]
  },
  {
   "cell_type": "markdown",
   "id": "001ff2d2-c16e-49cf-81ed-059a329356bf",
   "metadata": {},
   "source": [
    "$a_1, a^2, a_1^2$  \n",
    "$y_i=x_i^3+x_{i-1}^2+x_{i-2}$"
   ]
  },
  {
   "cell_type": "code",
   "execution_count": null,
   "id": "21b42836-239f-4e9d-8104-407c793a03d5",
   "metadata": {},
   "outputs": [],
   "source": [
    "''' markdown code\n",
    "$a_1, a^2, a_1^2$\n",
    "$y_i=x_i^3+x_{i-1}^2+x_{i-2}$\n",
    "'''"
   ]
  },
  {
   "cell_type": "code",
   "execution_count": null,
   "id": "f2971122-b28e-4ae0-a065-884190b43969",
   "metadata": {},
   "outputs": [],
   "source": []
  },
  {
   "cell_type": "markdown",
   "id": "ddac3a90-6452-43c8-b136-8408710a822f",
   "metadata": {},
   "source": [
    "### 9.4 분수\n",
    "1) 분자 + \"\\over\" + 분모 활용\n",
    "2) \"\\frac\" + {분자} + {분모} 활용"
   ]
  },
  {
   "cell_type": "markdown",
   "id": "d4f62546-3e16-4748-90d6-3d99d8a77bba",
   "metadata": {},
   "source": [
    "$s^2+2s+s\\over s+\\sqrt s+1$  \n",
    "$\\frac{1+s}{s(s+2)}$"
   ]
  },
  {
   "cell_type": "code",
   "execution_count": null,
   "id": "22f206a6-ab9e-444b-b8c8-278cc1dcf896",
   "metadata": {},
   "outputs": [],
   "source": [
    "''' markdown code\n",
    "$s^2+2s+s\\over s+\\sqrt s+1$  \n",
    "$\\frac{1+s}{s(s+2)}$\n",
    "'''"
   ]
  },
  {
   "cell_type": "code",
   "execution_count": null,
   "id": "7e93381a-bd3a-4e00-a694-631415e27a5d",
   "metadata": {},
   "outputs": [],
   "source": []
  },
  {
   "cell_type": "markdown",
   "id": "24e7071e-54c3-4203-b739-e274af20a855",
   "metadata": {},
   "source": [
    "### 9.5 절대값\n",
    "\"\\vert\" / \"\\lvert\" / \"\\rvert\" 활용"
   ]
  },
  {
   "cell_type": "markdown",
   "id": "8ec634fe-67fe-40a5-85f7-8da80030e03c",
   "metadata": {},
   "source": [
    "$\\lvert \\frac{s^2+1}{s^3+2s^2+3s+1} \\rvert$  \n",
    "\n",
    "$\\frac{\\lvert s^2+1 \\rvert}{s^3+2s^2+3s+1} $\n",
    "\n",
    "$\\frac{s^2+1}{\\lvert s^3+2s^2+3s+1 \\rvert} $"
   ]
  },
  {
   "cell_type": "code",
   "execution_count": null,
   "id": "115bda23-4041-4280-b833-e91c4ee4fe69",
   "metadata": {},
   "outputs": [],
   "source": [
    "''' markdown code\n",
    "$\\lvert \\frac{s^2+1}{s^3+2s^2+3s+1} \\rvert$  \n",
    "\n",
    "$\\frac{\\lvert s^2+1 \\rvert}{s^3+2s^2+3s+1} $\n",
    "\n",
    "$\\frac{s^2+1}{\\lvert s^3+2s^2+3s+1 \\rvert} $\n",
    "'''"
   ]
  },
  {
   "cell_type": "code",
   "execution_count": null,
   "id": "8da35b1b-4810-4e0e-a4c7-17d43387ae31",
   "metadata": {},
   "outputs": [],
   "source": []
  },
  {
   "cell_type": "markdown",
   "id": "6aacc4d4-e126-436d-9882-7cb54144a7db",
   "metadata": {},
   "source": [
    "### 9.6 수학기호(sin, log 등)\n",
    "\"\\\\\" + \"수학기호\" 로 활용  \n",
    "-> 수학 기호가 아니면 오류 "
   ]
  },
  {
   "cell_type": "markdown",
   "id": "0db092d9-b17d-4f2a-9b55-77fc96039fea",
   "metadata": {},
   "source": [
    "$\\log_{10}{(x+1)}$  \n",
    "$a\\sin(bx+c)$  \n",
    "$a\\tan(bx+c)$"
   ]
  },
  {
   "cell_type": "code",
   "execution_count": null,
   "id": "4874ee4e-1bfc-4683-aba2-dede98ceedc4",
   "metadata": {},
   "outputs": [],
   "source": [
    "''' markdown code\n",
    "$\\log_{10}{(x+1)}$  \n",
    "$a\\sin(bx+c)$  \n",
    "$a\\tan(bx+c)$\n",
    "'''"
   ]
  },
  {
   "cell_type": "code",
   "execution_count": null,
   "id": "87c69c41-d23b-4410-830b-2d115465d7dd",
   "metadata": {},
   "outputs": [],
   "source": []
  },
  {
   "cell_type": "markdown",
   "id": "bcbd9d4f-466a-42c3-8169-019875b8e0bf",
   "metadata": {},
   "source": [
    "### 9.7 극한 / 시그마\n",
    "\"\\sum\" , \"\\lim\" 활용  \n",
    "\"\\displaystyle\"로 알맞은 형태로 표기 가능 (기본 : \"\\textstyle\")"
   ]
  },
  {
   "cell_type": "markdown",
   "id": "e16efeb9-2d1f-4c44-b915-7ba7b063c9de",
   "metadata": {},
   "source": [
    "$\\lim_{s\\to\\infty}{s^2}$  \n",
    "\n",
    "$\\sum_{i=0}^{\\infty}{(y_i-t_i)^2}$  \n",
    "\n",
    "$\\displaystyle\\lim_{s\\to\\infty}{s^2}$  \n",
    "\n",
    "$\\displaystyle\\sum_{i=0}^{\\infty}{(y_i-t_i)^2}$"
   ]
  },
  {
   "cell_type": "code",
   "execution_count": null,
   "id": "ff97afc8-e0d5-4ee2-9c6e-801170d69716",
   "metadata": {},
   "outputs": [],
   "source": [
    "''' markdown code\n",
    "$\\lim_{s\\to\\infty}{s^2}$  \n",
    "\n",
    "$\\sum_{i=0}^{\\infty}{(y_i-t_i)^2}$  \n",
    "\n",
    "$\\displaystyle\\lim_{s\\to\\infty}{s^2}$  \n",
    "\n",
    "$\\displaystyle\\sum_{i=0}^{\\infty}{(y_i-t_i)^2}$\n",
    "'''"
   ]
  },
  {
   "cell_type": "code",
   "execution_count": null,
   "id": "c46cad2e-4bc1-42b6-bcba-76908a9259ba",
   "metadata": {},
   "outputs": [],
   "source": []
  },
  {
   "cell_type": "markdown",
   "id": "dfa01220-0e45-4cb4-a5f5-418465b07ed7",
   "metadata": {},
   "source": [
    "# 9.8 부등호\n",
    "gt , geq, approx, cong, simeq, doteq, fallingdotseq, pm, lt, leq, sim, approxeq, eqsim, risingdotseq, mp, equiv"
   ]
  },
  {
   "cell_type": "markdown",
   "id": "4d65ab9b-1a0a-4a6e-bcb7-7261c03a0bf2",
   "metadata": {},
   "source": [
    "$\\gt$ , $\\geq$, $\\approx$, $\\cong$, $\\simeq$, $\\doteq$, $\\fallingdotseq$, $\\pm$, $\\lt$, $\\leq$, $\\sim$, $\\approxeq$, $\\eqsim$, $\\risingdotseq$, $\\mp$, $\\equiv$"
   ]
  },
  {
   "cell_type": "code",
   "execution_count": null,
   "id": "63d18481-a85d-43b7-b28a-f564ec52a585",
   "metadata": {},
   "outputs": [],
   "source": [
    "''' markdown code\n",
    "$\\gt$ , $\\geq$, $\\approx$, $\\cong$, $\\simeq$, $\\doteq$, $\\fallingdotseq$, $\\pm$, $\\lt$, $\\leq$, $\\sim$, $\\approxeq$, $\\eqsim$, $\\risingdotseq$, $\\mp$, $\\equiv$\n",
    "'''"
   ]
  },
  {
   "cell_type": "code",
   "execution_count": null,
   "id": "969a2974-a042-406e-85cd-4492d42d8d21",
   "metadata": {},
   "outputs": [],
   "source": []
  },
  {
   "cell_type": "markdown",
   "id": "66ba5083-d195-4ed4-a31c-29b67f341973",
   "metadata": {},
   "source": [
    "### 9.9 그리스문자\n",
    "alpha, beta, gamma, delta, epsilon, zeta, eta, theta, kappa, lambda, mu, nu, xi, pi, rho, sigma, tau, phi, chi, psi, omega"
   ]
  },
  {
   "cell_type": "markdown",
   "id": "a06024e1-da40-49c1-800d-f87c3f5591ca",
   "metadata": {},
   "source": [
    "$\\alpha$, $\\beta$, $\\gamma$, $\\delta$, $\\epsilon$, $\\zeta$, $\\eta$, $\\theta$, $\\kappa$, $\\lambda$, $\\mu$, $\\nu$, $\\xi$, $\\pi$, $\\rho$, $\\sigma$, $\\tau$, $\\phi$, $\\chi$, $\\psi$, $\\omega$"
   ]
  },
  {
   "cell_type": "code",
   "execution_count": null,
   "id": "a05b365a-7ce0-4300-91c4-10283f6503b5",
   "metadata": {},
   "outputs": [],
   "source": [
    "''' markdown code\n",
    "$\\alpha$, $\\beta$, $\\gamma$, $\\delta$, $\\epsilon$, $\\zeta$, $\\eta$, $\\theta$, $\\kappa$, $\\lambda$, $\\mu$, $\\nu$, $\\xi$, $\\pi$, $\\rho$, $\\sigma$, $\\tau$, $\\phi$, $\\chi$, $\\psi$, $\\omega$\n",
    "'''"
   ]
  },
  {
   "cell_type": "code",
   "execution_count": null,
   "id": "9f451d82-25c7-4d50-85d3-8c2db9c79afa",
   "metadata": {},
   "outputs": [],
   "source": []
  }
 ],
 "metadata": {
  "kernelspec": {
   "display_name": "Python 3",
   "language": "python",
   "name": "python3"
  },
  "language_info": {
   "codemirror_mode": {
    "name": "ipython",
    "version": 3
   },
   "file_extension": ".py",
   "mimetype": "text/x-python",
   "name": "python",
   "nbconvert_exporter": "python",
   "pygments_lexer": "ipython3",
   "version": "3.8.8"
  }
 },
 "nbformat": 4,
 "nbformat_minor": 5
}
